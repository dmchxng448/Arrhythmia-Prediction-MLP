{
  "nbformat": 4,
  "nbformat_minor": 0,
  "metadata": {
    "colab": {
      "provenance": []
    },
    "kernelspec": {
      "name": "python3",
      "display_name": "Python 3"
    },
    "language_info": {
      "name": "python"
    }
  },
  "cells": [
    {
      "cell_type": "code",
      "execution_count": null,
      "metadata": {
        "id": "ryKstUiYd7MT"
      },
      "outputs": [],
      "source": [
        "#imports\n",
        "import pandas as pd\n",
        "import numpy as np\n",
        "import matplotlib.pyplot as plt\n",
        "import seaborn as sns\n",
        "\n",
        "import torch\n",
        "from torch.utils.data import Dataset, TensorDataset, DataLoader\n",
        "import torch.nn as nn\n",
        "import torch.nn.functional as F\n",
        "import torch.optim as optim\n",
        "\n",
        "from sklearn.preprocessing import StandardScaler, LabelEncoder #LabelEncoder faulty\n",
        "from sklearn.model_selection import train_test_split\n",
        "from sklearn.metrics import classification_report, accuracy_score\n",
        "\n",
        "import joblib"
      ]
    },
    {
      "cell_type": "markdown",
      "source": [
        "## Import Dataset"
      ],
      "metadata": {
        "id": "WYRimPm5jhms"
      }
    },
    {
      "cell_type": "code",
      "source": [
        "file_path = \"MIT-BIH Arrhythmia Database.csv\"\n",
        "df = pd.read_csv(file_path)\n",
        "print(\"Selected File:\", file_path)\n",
        "df.head(), df['type'].value_counts()"
      ],
      "metadata": {
        "colab": {
          "base_uri": "https://localhost:8080/"
        },
        "id": "oAH_uYiJjjrT",
        "outputId": "3b1be367-98c3-4e0c-9c0b-9e16f5e8e0bf"
      },
      "execution_count": null,
      "outputs": [
        {
          "output_type": "stream",
          "name": "stdout",
          "text": [
            "Selected File: MIT-BIH Arrhythmia Database.csv\n"
          ]
        },
        {
          "output_type": "execute_result",
          "data": {
            "text/plain": [
              "(   record type  0_pre-RR  0_post-RR   0_pPeak   0_tPeak   0_rPeak   0_sPeak  \\\n",
              " 0     101    N        76        313  0.074347 -0.160548  1.036401 -0.285662   \n",
              " 1     101    N       313        315 -0.052079 -0.264784  0.886597 -0.366298   \n",
              " 2     101    N       315        321 -0.062151 -0.296983  0.991859 -0.410306   \n",
              " 3     101    N       321        336 -0.063322 -0.281386  1.034903 -0.403880   \n",
              " 4     101    N       336        344 -0.062915  1.046914  1.046408  1.046408   \n",
              " \n",
              "     0_qPeak  0_qrs_interval  ...   1_qPeak  1_qrs_interval  1_pq_interval  \\\n",
              " 0 -0.026824              41  ...  0.025930               2             18   \n",
              " 1 -0.059710              21  ... -0.042009              26             27   \n",
              " 2 -0.065686              22  ...  0.009528               3              8   \n",
              " 3 -0.071750              22  ... -0.020536               6              9   \n",
              " 4 -0.074639              11  ...  0.016053              16              5   \n",
              " \n",
              "    1_qt_interval  1_st_interval  1_qrs_morph0  1_qrs_morph1  1_qrs_morph2  \\\n",
              " 0             22              2      0.025930      0.025930      0.025930   \n",
              " 1             62              9     -0.042009     -0.029498      0.005012   \n",
              " 2             12              1      0.009528      0.009528      0.008786   \n",
              " 3             16              1     -0.020536     -0.020257     -0.018965   \n",
              " 4             31             10      0.016053      0.006742      0.002782   \n",
              " \n",
              "    1_qrs_morph3  1_qrs_morph4  \n",
              " 0      0.025436      0.025436  \n",
              " 1      0.030892      0.002986  \n",
              " 2      0.008786      0.008368  \n",
              " 3     -0.016968     -0.014555  \n",
              " 4     -0.007798     -0.051155  \n",
              " \n",
              " [5 rows x 34 columns],\n",
              " type\n",
              " N       90083\n",
              " VEB      7009\n",
              " SVEB     2779\n",
              " F         803\n",
              " Q          15\n",
              " Name: count, dtype: int64)"
            ]
          },
          "metadata": {},
          "execution_count": 87
        }
      ]
    },
    {
      "cell_type": "markdown",
      "source": [
        "## Test Dataset Generation"
      ],
      "metadata": {
        "id": "7EMfVT65iUrX"
      }
    },
    {
      "cell_type": "code",
      "source": [
        "# Set random seed\n",
        "seed = 42\n",
        "\n",
        "# Sample from each class (10000 rows)\n",
        "n_sample = df[df[\"type\"] == \"N\"].sample(n = 5000, random_state = seed)\n",
        "veb_sample = df[df[\"type\"] == \"VEB\"].sample(n = 2500, random_state = seed)\n",
        "sveb_sample = df[df[\"type\"] == \"SVEB\"].sample(n = 2500, random_state = seed)\n",
        "\n",
        "# Combine into balanced subset\n",
        "df_balanced = pd.concat([n_sample, veb_sample, sveb_sample]).sample(frac = 1, random_state = seed).reset_index(drop = True)\n",
        "\n",
        "# Check new class dist\n",
        "df_balanced['type'].value_counts()"
      ],
      "metadata": {
        "colab": {
          "base_uri": "https://localhost:8080/",
          "height": 210
        },
        "id": "BOZRDUu3iTt2",
        "outputId": "3304d945-0960-4baf-a9eb-9d876a5d8701"
      },
      "execution_count": null,
      "outputs": [
        {
          "output_type": "execute_result",
          "data": {
            "text/plain": [
              "type\n",
              "N       5000\n",
              "VEB     2500\n",
              "SVEB    2500\n",
              "Name: count, dtype: int64"
            ],
            "text/html": [
              "<div>\n",
              "<style scoped>\n",
              "    .dataframe tbody tr th:only-of-type {\n",
              "        vertical-align: middle;\n",
              "    }\n",
              "\n",
              "    .dataframe tbody tr th {\n",
              "        vertical-align: top;\n",
              "    }\n",
              "\n",
              "    .dataframe thead th {\n",
              "        text-align: right;\n",
              "    }\n",
              "</style>\n",
              "<table border=\"1\" class=\"dataframe\">\n",
              "  <thead>\n",
              "    <tr style=\"text-align: right;\">\n",
              "      <th></th>\n",
              "      <th>count</th>\n",
              "    </tr>\n",
              "    <tr>\n",
              "      <th>type</th>\n",
              "      <th></th>\n",
              "    </tr>\n",
              "  </thead>\n",
              "  <tbody>\n",
              "    <tr>\n",
              "      <th>N</th>\n",
              "      <td>5000</td>\n",
              "    </tr>\n",
              "    <tr>\n",
              "      <th>VEB</th>\n",
              "      <td>2500</td>\n",
              "    </tr>\n",
              "    <tr>\n",
              "      <th>SVEB</th>\n",
              "      <td>2500</td>\n",
              "    </tr>\n",
              "  </tbody>\n",
              "</table>\n",
              "</div><br><label><b>dtype:</b> int64</label>"
            ]
          },
          "metadata": {},
          "execution_count": 88
        }
      ]
    },
    {
      "cell_type": "code",
      "source": [
        "# save as .csv\n",
        "# output_path = \"balanced_dataset.csv\" #1\n",
        "output_path = \"balanced_dataset1.csv\"\n",
        "df_balanced.to_csv(output_path, index = False)\n",
        "\n",
        "print(\"Uploading\", output_path, \"to session path...\")"
      ],
      "metadata": {
        "colab": {
          "base_uri": "https://localhost:8080/"
        },
        "id": "dz5UL30tkBfr",
        "outputId": "c2d6bfe6-167d-4458-a17b-7d54b4d03626"
      },
      "execution_count": null,
      "outputs": [
        {
          "output_type": "stream",
          "name": "stdout",
          "text": [
            "Uploading balanced_dataset1.csv to session path...\n"
          ]
        }
      ]
    },
    {
      "cell_type": "code",
      "source": [
        "# change our original dataset to balanced one\n",
        "df = df_balanced.copy()\n",
        "print(\"Ensure copy is correct...\")\n",
        "df['type'].value_counts()"
      ],
      "metadata": {
        "colab": {
          "base_uri": "https://localhost:8080/",
          "height": 227
        },
        "id": "KKEjLN-mcYW2",
        "outputId": "d61569d1-b5d9-4e66-948c-f8a441fb1f8b"
      },
      "execution_count": null,
      "outputs": [
        {
          "output_type": "stream",
          "name": "stdout",
          "text": [
            "Ensure copy is correct...\n"
          ]
        },
        {
          "output_type": "execute_result",
          "data": {
            "text/plain": [
              "type\n",
              "N       5000\n",
              "VEB     2500\n",
              "SVEB    2500\n",
              "Name: count, dtype: int64"
            ],
            "text/html": [
              "<div>\n",
              "<style scoped>\n",
              "    .dataframe tbody tr th:only-of-type {\n",
              "        vertical-align: middle;\n",
              "    }\n",
              "\n",
              "    .dataframe tbody tr th {\n",
              "        vertical-align: top;\n",
              "    }\n",
              "\n",
              "    .dataframe thead th {\n",
              "        text-align: right;\n",
              "    }\n",
              "</style>\n",
              "<table border=\"1\" class=\"dataframe\">\n",
              "  <thead>\n",
              "    <tr style=\"text-align: right;\">\n",
              "      <th></th>\n",
              "      <th>count</th>\n",
              "    </tr>\n",
              "    <tr>\n",
              "      <th>type</th>\n",
              "      <th></th>\n",
              "    </tr>\n",
              "  </thead>\n",
              "  <tbody>\n",
              "    <tr>\n",
              "      <th>N</th>\n",
              "      <td>5000</td>\n",
              "    </tr>\n",
              "    <tr>\n",
              "      <th>VEB</th>\n",
              "      <td>2500</td>\n",
              "    </tr>\n",
              "    <tr>\n",
              "      <th>SVEB</th>\n",
              "      <td>2500</td>\n",
              "    </tr>\n",
              "  </tbody>\n",
              "</table>\n",
              "</div><br><label><b>dtype:</b> int64</label>"
            ]
          },
          "metadata": {},
          "execution_count": 90
        }
      ]
    },
    {
      "cell_type": "markdown",
      "source": [
        "## Pytorch Setup"
      ],
      "metadata": {
        "id": "Px2_qk4duj2e"
      }
    },
    {
      "cell_type": "code",
      "source": [
        "# Encode target labels into Numeric values (for categorical)\n",
        "df = df[df['type'].isin(['N', 'VEB', 'SVEB'])].copy() # filter only 3 classes\n",
        "df['type'] = df['type'].replace({\n",
        "    'N': 0,\n",
        "    'VEB': 1,\n",
        "    'SVEB': 2\n",
        "}).astype(int) # change into numeric values"
      ],
      "metadata": {
        "id": "rqvXD6Ffuqx3",
        "colab": {
          "base_uri": "https://localhost:8080/"
        },
        "outputId": "bba35817-9bcb-4928-ad6a-d5258f33db58"
      },
      "execution_count": null,
      "outputs": [
        {
          "output_type": "stream",
          "name": "stderr",
          "text": [
            "/tmp/ipython-input-91-2585851808.py:3: FutureWarning: Downcasting behavior in `replace` is deprecated and will be removed in a future version. To retain the old behavior, explicitly call `result.infer_objects(copy=False)`. To opt-in to the future behavior, set `pd.set_option('future.no_silent_downcasting', True)`\n",
            "  df['type'] = df['type'].replace({\n"
          ]
        }
      ]
    },
    {
      "cell_type": "code",
      "source": [
        "# Split features and labels\n",
        "X = df.drop(columns=[\"record\", \"type\"])  #independent features\n",
        "y = df[\"type\"] #target column"
      ],
      "metadata": {
        "id": "NtcKGc9uuktF"
      },
      "execution_count": null,
      "outputs": []
    },
    {
      "cell_type": "code",
      "source": [
        "# Standardizing features - mean = 0, SD = 1\n",
        "scaler = StandardScaler()\n",
        "X_scaled = scaler.fit_transform(X)\n",
        "joblib.dump(scaler, \"Uploading scaler.pkl to session path...\") #save StandardScaler for the predictor - call with \"scaler = joblib.load(\"scaler.pkl\")\""
      ],
      "metadata": {
        "id": "_iVYcpZ3uvxY",
        "colab": {
          "base_uri": "https://localhost:8080/"
        },
        "outputId": "0d036c07-ca52-4484-f9e3-56b56a51ba4c"
      },
      "execution_count": null,
      "outputs": [
        {
          "output_type": "execute_result",
          "data": {
            "text/plain": [
              "['Uploading scaler.pkl to session path...']"
            ]
          },
          "metadata": {},
          "execution_count": 93
        }
      ]
    },
    {
      "cell_type": "code",
      "source": [
        "# Stratified training, validation, and testing splits to preserve class balance | 80% training, 10% validation, 10% testing\n",
        "# First split: Train vs. Temp\n",
        "X_train, X_temp, y_train, y_temp = train_test_split(\n",
        "    X_scaled, y, test_size=0.2, random_state=42, stratify=y)\n",
        "\n",
        "# Second split: Validation vs. Test\n",
        "X_val, X_test, y_val, y_test = train_test_split(\n",
        "    X_temp, y_temp, test_size=0.5, random_state=42, stratify=y_temp)"
      ],
      "metadata": {
        "id": "_cKRQVIGu1VB"
      },
      "execution_count": null,
      "outputs": []
    },
    {
      "cell_type": "code",
      "source": [
        "# Converting splits into tensors with correct dtypes\n",
        "X_train_tensor = torch.tensor(X_train, dtype=torch.float32)\n",
        "y_train_tensor = torch.tensor(y_train.values, dtype=torch.long)\n",
        "print(\"Shape of Training Tensor (Attributes):\\n\", X_train_tensor.shape, \"\\nShape of Training Tensor (Targets):\\n\", y_train_tensor.shape)\n",
        "\n",
        "X_val_tensor = torch.tensor(X_val, dtype=torch.float32)\n",
        "y_val_tensor = torch.tensor(y_val.values, dtype=torch.long)\n",
        "print(\"\\nShape of Validation Tensor (Attributes):\\n\", X_val_tensor.shape, \"\\nShape of Validation Tensor (Targets):\\n\", y_val_tensor.shape)\n",
        "\n",
        "X_test_tensor = torch.tensor(X_test, dtype=torch.float32)\n",
        "y_test_tensor = torch.tensor(y_test.values, dtype=torch.long)\n",
        "print(\"\\nShape of Testing Tensor (Attributes):\\n\", X_test_tensor.shape, \"\\nShape of Testing Tensor (Targets):\\n\", y_test_tensor.shape)"
      ],
      "metadata": {
        "id": "I5HQgvoIzC7i",
        "colab": {
          "base_uri": "https://localhost:8080/"
        },
        "outputId": "afc05600-9700-4866-9d4c-af14f77c5be3"
      },
      "execution_count": null,
      "outputs": [
        {
          "output_type": "stream",
          "name": "stdout",
          "text": [
            "Shape of Training Tensor (Attributes):\n",
            " torch.Size([8000, 32]) \n",
            "Shape of Training Tensor (Targets):\n",
            " torch.Size([8000])\n",
            "\n",
            "Shape of Validation Tensor (Attributes):\n",
            " torch.Size([1000, 32]) \n",
            "Shape of Validation Tensor (Targets):\n",
            " torch.Size([1000])\n",
            "\n",
            "Shape of Testing Tensor (Attributes):\n",
            " torch.Size([1000, 32]) \n",
            "Shape of Testing Tensor (Targets):\n",
            " torch.Size([1000])\n"
          ]
        }
      ]
    },
    {
      "cell_type": "code",
      "source": [
        "# Wrap data into a dataset + dataloader (torch.utils) - Modify batch_size\n",
        "# batch_size = 64\n",
        "# batch_size = 128\n",
        "# batch_size = 256\n",
        "batch_size = 512 #attempt to reduce noise\n",
        "\n",
        "train_dataset = TensorDataset(X_train_tensor, y_train_tensor)\n",
        "train_loader = DataLoader(train_dataset, batch_size, shuffle=True)\n",
        "\n",
        "val_dataset = TensorDataset(X_val_tensor, y_val_tensor)\n",
        "val_loader = DataLoader(val_dataset, batch_size)\n",
        "\n",
        "test_dataset = TensorDataset(X_test_tensor, y_test_tensor)\n",
        "test_loader = DataLoader(test_dataset, batch_size)"
      ],
      "metadata": {
        "id": "GZQO4iKodhzQ"
      },
      "execution_count": null,
      "outputs": []
    },
    {
      "cell_type": "code",
      "source": [
        "#Sanity check: confirm input dimensions match tensors\n",
        "input_dim = X_train_tensor.shape[1]\n",
        "print(\"Dimensions of Input (should be 32):\", input_dim)"
      ],
      "metadata": {
        "colab": {
          "base_uri": "https://localhost:8080/"
        },
        "id": "LD5uNZ48dnNM",
        "outputId": "6a24091b-77d8-4417-d4f2-f82e6bdec9c9"
      },
      "execution_count": null,
      "outputs": [
        {
          "output_type": "stream",
          "name": "stdout",
          "text": [
            "Dimensions of Input (should be 32): 32\n"
          ]
        }
      ]
    },
    {
      "cell_type": "markdown",
      "source": [
        "# **MLP** **Modeling**"
      ],
      "metadata": {
        "id": "AHI61qUQzcm5"
      }
    },
    {
      "cell_type": "markdown",
      "source": [
        "## **Model 1 (2 hidden layers)**"
      ],
      "metadata": {
        "id": "zAkWxvPWz3Ss"
      }
    },
    {
      "cell_type": "markdown",
      "source": [
        "- Architecture of Model 1:\n",
        "  - Input layer\n",
        "  - 2 Hidden layers (each hidden units with ReLU activation)\n",
        "    - First hidden layer: 128 units\n",
        "    - Second hidden layer: 64 units\n",
        "  - Output layers (3)"
      ],
      "metadata": {
        "id": "7YfRC2dDU8DU"
      }
    },
    {
      "cell_type": "code",
      "source": [
        "import torch.nn as nn\n",
        "import torch.nn.functional as F\n",
        "\n",
        "class MLP(nn.Module):\n",
        "    def __init__(self, input_dim, hidden_dim, hidden_dim1, output_dim):\n",
        "        super(MLP, self).__init__()\n",
        "        self.fc1 = nn.Linear(input_dim, hidden_dim) # 1st hidden layer - nn.Linear(32, 128\n",
        "        self.fc2 = nn.Linear(hidden_dim, hidden_dim1) # 2nd hidden layer - nn.Linear(128, 64)\n",
        "        self.fc3 = nn.Linear(hidden_dim1, output_dim) # output layer - nn.Linear(64, 3)\n",
        "\n",
        "    def forward(self, x): # Forward Pass of the network\n",
        "        x = F.relu(self.fc1(x)) # Activation after 1st hidden layer\n",
        "        x = F.relu(self.fc2(x)) # Activation after 2nd hidden layer\n",
        "        return self.fc3(x) # Final output\n",
        "\n",
        "# Creating MLP model with 32 input features, 2 hidden layers, and 3 output classes\n",
        "model = MLP(input_dim = 32, hidden_dim = 128, hidden_dim1 = 64, output_dim = 3)"
      ],
      "metadata": {
        "id": "YB17GnnIzeI4"
      },
      "execution_count": null,
      "outputs": []
    },
    {
      "cell_type": "markdown",
      "source": [
        "### Training"
      ],
      "metadata": {
        "id": "1hcAV6PF3_fl"
      }
    },
    {
      "cell_type": "code",
      "source": [
        "# UNCOMMENT IF TRAINING ON GPU\n",
        "device = torch.device(\"cuda\" if torch.cuda.is_available() else \"cpu\")\n",
        "print(\"Using device:\", device) #cuda = gpu\n",
        "model.to(device)\n",
        "X_train_tensor = X_train_tensor.to(device)\n",
        "y_train_tensor = y_train_tensor.to(device)\n",
        "X_val_tensor = X_val_tensor.to(device)\n",
        "y_val_tensor = y_val_tensor.to(device)\n",
        "X_test_tensor = X_test_tensor.to(device)\n",
        "y_test_tensor = y_test_tensor.to(device)\n",
        "\n",
        "# Loss\n",
        "criterion = nn.CrossEntropyLoss()\n",
        "\n",
        "# Adam optimizer for setting learning rate\n",
        "# optimizer = optim.Adam(model.parameters(), lr=0.001)\n",
        "optimizer = optim.Adam(model.parameters(), lr=0.0001) #attempt to reduce noise\n",
        "\n",
        "# Training epochs\n",
        "# epochs = 100\n",
        "epochs = 1000 #attempt to reduce noise\n",
        "\n",
        "# Storing loss and accuracy at each epoch in list\n",
        "losses = []\n",
        "val_accuracies = []\n",
        "\n",
        "for i in range(epochs):\n",
        "\n",
        "    # --- TRAINING ---\n",
        "    model.train()\n",
        "    optimizer.zero_grad()\n",
        "\n",
        "    # Forward pass\n",
        "    y_pred = model(X_train_tensor)\n",
        "    loss = criterion(y_pred, y_train_tensor)\n",
        "\n",
        "    # Backward pass + optimization\n",
        "    loss.backward()\n",
        "    optimizer.step()\n",
        "\n",
        "    # Record loss\n",
        "    losses.append(loss.item())\n",
        "\n",
        "    # --- VALIDATION ---\n",
        "    model.eval()\n",
        "    with torch.no_grad():\n",
        "        val_pred = model(X_val_tensor)\n",
        "        val_pred_labels = torch.argmax(val_pred, dim=1)\n",
        "        correct = (val_pred_labels == y_val_tensor).sum().item()\n",
        "        val_accuracy = correct / y_val_tensor.size(0)\n",
        "        val_accuracies.append(val_accuracy)\n",
        "\n",
        "    # Logging every 10 epochs\n",
        "    if i % 100 == 0 or i == epochs - 1:\n",
        "        print(f\"Epoch {i+1}/{epochs}, Train Loss: {loss.item():.4f}, Val Accuracy: {val_accuracy:.4f}\")"
      ],
      "metadata": {
        "colab": {
          "base_uri": "https://localhost:8080/"
        },
        "id": "yTrb2bC14AQA",
        "outputId": "fe5a675a-2935-49ee-fee7-927552a13a36"
      },
      "execution_count": null,
      "outputs": [
        {
          "output_type": "stream",
          "name": "stdout",
          "text": [
            "Using device: cpu\n",
            "Epoch 1/1000, Train Loss: 1.1039, Val Accuracy: 0.3480\n",
            "Epoch 101/1000, Train Loss: 0.8638, Val Accuracy: 0.7700\n",
            "Epoch 201/1000, Train Loss: 0.6159, Val Accuracy: 0.8060\n",
            "Epoch 301/1000, Train Loss: 0.4526, Val Accuracy: 0.8410\n",
            "Epoch 401/1000, Train Loss: 0.3653, Val Accuracy: 0.8540\n",
            "Epoch 501/1000, Train Loss: 0.3123, Val Accuracy: 0.8830\n",
            "Epoch 601/1000, Train Loss: 0.2748, Val Accuracy: 0.9080\n",
            "Epoch 701/1000, Train Loss: 0.2461, Val Accuracy: 0.9240\n",
            "Epoch 801/1000, Train Loss: 0.2230, Val Accuracy: 0.9300\n",
            "Epoch 901/1000, Train Loss: 0.2035, Val Accuracy: 0.9350\n",
            "Epoch 1000/1000, Train Loss: 0.1866, Val Accuracy: 0.9360\n"
          ]
        }
      ]
    },
    {
      "cell_type": "code",
      "source": [
        "# Visualization of training loss over epochs\n",
        "plt.plot(range(epochs), losses)\n",
        "plt.xlabel(\"Epoch\")\n",
        "plt.ylabel(\"Loss\")\n",
        "plt.title(\"Training Loss\")\n",
        "plt.xticks([1, 100, 200, 300, 400, 500, 600, 700, 800, 900, 1000])\n",
        "plt.xlim(1, 1000)\n",
        "plt.grid()\n",
        "plt.show()"
      ],
      "metadata": {
        "id": "yF_yrZ7q4wHo",
        "colab": {
          "base_uri": "https://localhost:8080/",
          "height": 472
        },
        "outputId": "827b833a-0a6b-4cf6-db50-38be0ce371a6"
      },
      "execution_count": null,
      "outputs": [
        {
          "output_type": "display_data",
          "data": {
            "text/plain": [
              "<Figure size 640x480 with 1 Axes>"
            ],
            "image/png": "[encoded data removed]"
          },
          "metadata": {}
        }
      ]
    },
    {
      "cell_type": "code",
      "source": [
        "#Visualization of validation accuracy over epochs\n",
        "plt.plot(range(epochs), val_accuracies)\n",
        "plt.xlabel(\"Epoch\")\n",
        "plt.ylabel(\"Validation Accuracy\")\n",
        "plt.title(\"Validation Accuracy over Epochs\")\n",
        "plt.xticks([1, 100, 200, 300, 400, 500, 600, 700, 800, 900, 1000])\n",
        "plt.xlim(1, 1000)\n",
        "plt.grid()\n",
        "plt.show()"
      ],
      "metadata": {
        "colab": {
          "base_uri": "https://localhost:8080/",
          "height": 472
        },
        "id": "GfO9HxoxeRs5",
        "outputId": "ac29ed2c-9a11-4f02-9346-efd0d83f05a8"
      },
      "execution_count": null,
      "outputs": [
        {
          "output_type": "display_data",
          "data": {
            "text/plain": [
              "<Figure size 640x480 with 1 Axes>"
            ],
            "image/png": "[encoded data removed]"
          },
          "metadata": {}
        }
      ]
    },
    {
      "cell_type": "markdown",
      "source": [
        "## Evaluation"
      ],
      "metadata": {
        "id": "3DPriJy948wX"
      }
    },
    {
      "cell_type": "code",
      "source": [
        "# Classification Report\n",
        "model.eval()\n",
        "with torch.no_grad():\n",
        "    y_pred_test = model(X_test_tensor)\n",
        "    y_pred_labels = torch.argmax(y_pred_test, dim=1)\n",
        "\n",
        "# OUTPUT FOR CPU TESTING\n",
        "# print(\"Classification Report:\\n\")\n",
        "# print(classification_report(y_test_tensor.numpy(), y_pred_labels.numpy(), target_names=[\"N\", \"VEB\", \"SVEB\"]))\n",
        "\n",
        "# OUTPUT FOR GPU TESTING\n",
        "print(\"Classification Report:\\n\")\n",
        "print(classification_report(\n",
        "    y_test_tensor.cpu().numpy(),  # move to CPU before .numpy()\n",
        "    y_pred_labels.cpu().numpy(),  # move to CPU before .numpy()\n",
        "    target_names=[\"N\", \"VEB\", \"SVEB\"]\n",
        "))"
      ],
      "metadata": {
        "id": "X88cvJuw49sv",
        "colab": {
          "base_uri": "https://localhost:8080/"
        },
        "outputId": "89e053c5-4bd2-41d0-a3ec-91036607f4a1"
      },
      "execution_count": null,
      "outputs": [
        {
          "output_type": "stream",
          "name": "stdout",
          "text": [
            "Classification Report:\n",
            "\n",
            "              precision    recall  f1-score   support\n",
            "\n",
            "           N       0.95      0.95      0.95       500\n",
            "         VEB       0.95      0.95      0.95       250\n",
            "        SVEB       0.91      0.90      0.91       250\n",
            "\n",
            "    accuracy                           0.94      1000\n",
            "   macro avg       0.94      0.94      0.94      1000\n",
            "weighted avg       0.94      0.94      0.94      1000\n",
            "\n"
          ]
        }
      ]
    },
    {
      "cell_type": "code",
      "source": [
        "# Accuracy\n",
        "accuracy = (y_pred_labels == y_test_tensor).sum().item() / len(y_test_tensor)\n",
        "print(f\"Accuracy: {accuracy:.4f}\")"
      ],
      "metadata": {
        "colab": {
          "base_uri": "https://localhost:8080/"
        },
        "id": "EwRaQlEK92vN",
        "outputId": "de948b8b-2fe7-46ec-c546-16e8d68b4975"
      },
      "execution_count": null,
      "outputs": [
        {
          "output_type": "stream",
          "name": "stdout",
          "text": [
            "Accuracy: 0.9410\n"
          ]
        }
      ]
    },
    {
      "cell_type": "markdown",
      "source": [
        "## **Model 2 (3 hidden layers)**"
      ],
      "metadata": {
        "id": "onMIyZmB-crK"
      }
    },
    {
      "cell_type": "markdown",
      "source": [
        "- Architecture of Model 2:\n",
        "  - Input layer\n",
        "  - 3 Hidden layers (each hidden units with ReLU activation)\n",
        "    - First hidden layer: 128 units\n",
        "    - Second hidden layer: 128 units\n",
        "    - Third hidden layer: 64 units\n",
        "  - Output layers"
      ],
      "metadata": {
        "id": "4SGcza9gWkQj"
      }
    },
    {
      "cell_type": "code",
      "source": [
        "# import torch.nn as nn\n",
        "# import torch.nn.functional as F\n",
        "\n",
        "class MLP(nn.Module):\n",
        "    def __init__(self, input_dim, hidden_dim, hidden_dim1, hidden_dim2, output_dim):\n",
        "        super(MLP, self).__init__()\n",
        "\n",
        "        self.fc1 = nn.Linear(input_dim, hidden_dim) # 1st hidden layer - nn.Linear(32, 128)\n",
        "        self.fc2 = nn.Linear(hidden_dim, hidden_dim1) # 2nd hidden layer - n.Linear(128, 128)\n",
        "        self.fc3 = nn.Linear(hidden_dim1, hidden_dim2) # 3rd hidden layer - nn.Linear(128, 64)\n",
        "        self.fc4 = nn.Linear(hidden_dim2, output_dim) # output layer - nn.linear(64, 3)\n",
        "\n",
        "    def forward(self, x):\n",
        "        x = F.relu(self.fc1(x)) # Activation after 1st hidden layer\n",
        "        x = F.relu(self.fc2(x)) # Activation after 2nd hidden layer\n",
        "        x = F.relu(self.fc3(x)) # Activation after 3rd hidden layer\n",
        "        return self.fc4(x)\n",
        "\n",
        "model = MLP(input_dim = 32, hidden_dim = 128, hidden_dim1 = 128, hidden_dim2 = 64, output_dim = 3)"
      ],
      "metadata": {
        "id": "tujIxxo3-eNY"
      },
      "execution_count": null,
      "outputs": []
    },
    {
      "cell_type": "markdown",
      "source": [
        "### Training"
      ],
      "metadata": {
        "id": "CU1t0Xt3NXG6"
      }
    },
    {
      "cell_type": "code",
      "source": [
        "# UNCOMMENT IF TRAINING ON GPU\n",
        "device = torch.device(\"cuda\" if torch.cuda.is_available() else \"cpu\")\n",
        "print(\"Using device:\", device) #cuda = gpu\n",
        "model.to(device)\n",
        "X_train_tensor = X_train_tensor.to(device)\n",
        "y_train_tensor = y_train_tensor.to(device)\n",
        "X_val_tensor = X_val_tensor.to(device)\n",
        "y_val_tensor = y_val_tensor.to(device)\n",
        "X_test_tensor = X_test_tensor.to(device)\n",
        "y_test_tensor = y_test_tensor.to(device)\n",
        "\n",
        "# Loss\n",
        "criterion = nn.CrossEntropyLoss()\n",
        "\n",
        "# Adam optimizer for setting learning rate\n",
        "# optimizer = optim.Adam(model.parameters(), lr=0.001)\n",
        "optimizer = optim.Adam(model.parameters(), lr=0.0001) #attempt to reduce noise\n",
        "\n",
        "# Training epochs\n",
        "# epochs = 100\n",
        "epochs = 1000 #attempt to reduce noise\n",
        "\n",
        "# Storing loss and accuracy at each epoch in list\n",
        "losses = []\n",
        "val_accuracies = []\n",
        "\n",
        "for i in range(epochs):\n",
        "\n",
        "    # --- TRAINING ---\n",
        "    model.train()\n",
        "    optimizer.zero_grad()\n",
        "\n",
        "    # Forward pass\n",
        "    y_pred = model(X_train_tensor)\n",
        "    loss = criterion(y_pred, y_train_tensor)\n",
        "\n",
        "    # Backward pass + optimization\n",
        "    loss.backward()\n",
        "    optimizer.step()\n",
        "\n",
        "    # Record loss\n",
        "    losses.append(loss.item())\n",
        "\n",
        "    # --- VALIDATION ---\n",
        "    model.eval()\n",
        "    with torch.no_grad():\n",
        "        val_pred = model(X_val_tensor)\n",
        "        val_pred_labels = torch.argmax(val_pred, dim=1)\n",
        "        correct = (val_pred_labels == y_val_tensor).sum().item()\n",
        "        val_accuracy = correct / y_val_tensor.size(0)\n",
        "        val_accuracies.append(val_accuracy)\n",
        "\n",
        "    # Logging every 10 epochs\n",
        "    if i % 100 == 0 or i == epochs - 1:\n",
        "        print(f\"Epoch {i+1}/{epochs}, Train Loss: {loss.item():.4f}, Val Accuracy: {val_accuracy:.4f}\")"
      ],
      "metadata": {
        "colab": {
          "base_uri": "https://localhost:8080/"
        },
        "id": "SQDc8fTiNXwI",
        "outputId": "85240e1f-7c11-438e-d582-8391ed38fa81"
      },
      "execution_count": null,
      "outputs": [
        {
          "output_type": "stream",
          "name": "stdout",
          "text": [
            "Using device: cpu\n",
            "Epoch 1/1000, Train Loss: 1.1301, Val Accuracy: 0.2490\n",
            "Epoch 101/1000, Train Loss: 0.8470, Val Accuracy: 0.6530\n",
            "Epoch 201/1000, Train Loss: 0.4979, Val Accuracy: 0.8090\n",
            "Epoch 301/1000, Train Loss: 0.3389, Val Accuracy: 0.8670\n",
            "Epoch 401/1000, Train Loss: 0.2645, Val Accuracy: 0.9020\n",
            "Epoch 501/1000, Train Loss: 0.2157, Val Accuracy: 0.9230\n",
            "Epoch 601/1000, Train Loss: 0.1810, Val Accuracy: 0.9390\n",
            "Epoch 701/1000, Train Loss: 0.1541, Val Accuracy: 0.9430\n",
            "Epoch 801/1000, Train Loss: 0.1318, Val Accuracy: 0.9500\n",
            "Epoch 901/1000, Train Loss: 0.1118, Val Accuracy: 0.9540\n",
            "Epoch 1000/1000, Train Loss: 0.0942, Val Accuracy: 0.9610\n"
          ]
        }
      ]
    },
    {
      "cell_type": "code",
      "source": [
        "# Visualization of training loss over epochs\n",
        "plt.plot(range(epochs), losses)\n",
        "plt.xlabel(\"Epoch\")\n",
        "plt.ylabel(\"Loss\")\n",
        "plt.title(\"Training Loss\")\n",
        "plt.xticks([1, 100, 200, 300, 400, 500, 600, 700, 800, 900, 1000])\n",
        "plt.xlim(1, 1000)\n",
        "plt.grid()\n",
        "plt.show()"
      ],
      "metadata": {
        "colab": {
          "base_uri": "https://localhost:8080/",
          "height": 472
        },
        "id": "okUhyq5VQnA2",
        "outputId": "1e0dea59-948f-4af4-c5ec-15708b56b474"
      },
      "execution_count": null,
      "outputs": [
        {
          "output_type": "display_data",
          "data": {
            "text/plain": [
              "<Figure size 640x480 with 1 Axes>"
            ],
            "image/png": "[encoded data removed]"
          },
          "metadata": {}
        }
      ]
    },
    {
      "cell_type": "code",
      "source": [
        "#Visualization of validation accuracy over epochs\n",
        "plt.plot(range(epochs), val_accuracies)\n",
        "plt.xlabel(\"Epoch\")\n",
        "plt.ylabel(\"Validation Accuracy\")\n",
        "plt.title(\"Validation Accuracy over Epochs\")\n",
        "plt.xticks([1, 100, 200, 300, 400, 500, 600, 700, 800, 900, 1000])\n",
        "plt.xlim(1, 1000)\n",
        "plt.grid()\n",
        "plt.show()"
      ],
      "metadata": {
        "id": "ceFfWbthesQ4",
        "colab": {
          "base_uri": "https://localhost:8080/",
          "height": 472
        },
        "outputId": "1f8eae57-0080-4951-9adc-14f552aa50b4"
      },
      "execution_count": null,
      "outputs": [
        {
          "output_type": "display_data",
          "data": {
            "text/plain": [
              "<Figure size 640x480 with 1 Axes>"
            ],
            "image/png": "[encoded data removed]"
          },
          "metadata": {}
        }
      ]
    },
    {
      "cell_type": "markdown",
      "source": [
        "## Evaluation"
      ],
      "metadata": {
        "id": "x9F18ecsQr3d"
      }
    },
    {
      "cell_type": "code",
      "source": [
        "# Classification Report\n",
        "model.eval()\n",
        "with torch.no_grad():\n",
        "    y_pred_test = model(X_test_tensor)\n",
        "    y_pred_labels = torch.argmax(y_pred_test, dim=1)\n",
        "\n",
        "# OUTPUT FOR CPU TESTING\n",
        "# print(\"Classification Report:\\n\")\n",
        "# print(classification_report(y_test_tensor.numpy(), y_pred_labels.numpy(), target_names=[\"N\", \"VEB\", \"SVEB\"]))\n",
        "\n",
        "# OUTPUT FOR GPU TESTING\n",
        "print(\"Classification Report:\\n\")\n",
        "print(classification_report(\n",
        "    y_test_tensor.cpu().numpy(),  # move to CPU before .numpy()\n",
        "    y_pred_labels.cpu().numpy(),  # move to CPU before .numpy()\n",
        "    target_names=[\"N\", \"VEB\", \"SVEB\"]\n",
        "))"
      ],
      "metadata": {
        "colab": {
          "base_uri": "https://localhost:8080/"
        },
        "id": "lyRDujeGQp8j",
        "outputId": "8e6a6b37-f3e7-402e-b09e-cd5582051126"
      },
      "execution_count": null,
      "outputs": [
        {
          "output_type": "stream",
          "name": "stdout",
          "text": [
            "Classification Report:\n",
            "\n",
            "              precision    recall  f1-score   support\n",
            "\n",
            "           N       0.97      0.97      0.97       500\n",
            "         VEB       0.97      0.96      0.97       250\n",
            "        SVEB       0.92      0.94      0.93       250\n",
            "\n",
            "    accuracy                           0.96      1000\n",
            "   macro avg       0.95      0.96      0.96      1000\n",
            "weighted avg       0.96      0.96      0.96      1000\n",
            "\n"
          ]
        }
      ]
    },
    {
      "cell_type": "code",
      "source": [
        "# Accuracy\n",
        "accuracy = (y_pred_labels == y_test_tensor).sum().item() / len(y_test_tensor)\n",
        "print(f\"Accuracy: {accuracy:.4f}\")"
      ],
      "metadata": {
        "colab": {
          "base_uri": "https://localhost:8080/"
        },
        "id": "Ct9qJOYaQtsc",
        "outputId": "98051d78-a79c-44e6-b7fd-baf400f0cf7c"
      },
      "execution_count": null,
      "outputs": [
        {
          "output_type": "stream",
          "name": "stdout",
          "text": [
            "Accuracy: 0.9590\n"
          ]
        }
      ]
    },
    {
      "cell_type": "markdown",
      "source": [
        "# **Prediction Application**\n",
        "Legend:\n",
        "\n",
        "\n",
        "*   0: Normal (N)\n",
        "*   1: Ventricular Ectopic Beat (VEB)\n",
        "*   2: Supraventricular Ectopic Beat (SVEB)"
      ],
      "metadata": {
        "id": "7FrsjYyybVs4"
      }
    },
    {
      "cell_type": "markdown",
      "source": [
        "## Load Dataset."
      ],
      "metadata": {
        "id": "wDN2Wxcbu5oC"
      }
    },
    {
      "cell_type": "code",
      "source": [
        "# Recall...\n",
        "default_rows = len(df_balanced)\n",
        "print(\"Default Row Count:\", default_rows)\n",
        "\n",
        "#remove F and Q types and reconfirm row count\n",
        "df_balanced = df_balanced[df_balanced['type'].isin([\"N\", \"VEB\", \"SVEB\"])]\n",
        "filtered_rows = len(df_balanced)\n",
        "print(\"Row Count Excluding F and Q:\", filtered_rows)\n",
        "print(\"Rows Removed:\", default_rows - filtered_rows, \"\\n\")\n",
        "print(df_balanced.head())"
      ],
      "metadata": {
        "colab": {
          "base_uri": "https://localhost:8080/"
        },
        "id": "OGVOPrZpeLwa",
        "outputId": "c9c1ef26-0cc8-4701-a8e4-f4c021c49350"
      },
      "execution_count": null,
      "outputs": [
        {
          "output_type": "stream",
          "name": "stdout",
          "text": [
            "Default Row Count: 10000\n",
            "Row Count Excluding F and Q: 10000\n",
            "Rows Removed: 0 \n",
            "\n",
            "   record type  0_pre-RR  0_post-RR   0_pPeak   0_tPeak   0_rPeak   0_sPeak  \\\n",
            "0     200  VEB       204        193  0.072093  0.981791 -1.017812 -1.710520   \n",
            "1     215    N       199        194  0.030454  0.922415  0.892082  0.892082   \n",
            "2     209    N       228        230 -0.007364  1.056083  1.020817  1.020817   \n",
            "3     119    N       340        341 -0.051494 -0.373309  1.793418 -0.825145   \n",
            "4     203    N       223        254 -0.020287  0.233794  1.196078 -0.985120   \n",
            "\n",
            "    0_qPeak  0_qrs_interval  ...   1_qPeak  1_qrs_interval  1_pq_interval  \\\n",
            "0 -1.017812               5  ... -0.137798              16             22   \n",
            "1  0.028786              21  ... -0.001023              10              2   \n",
            "2 -0.046637              10  ...  0.025466              23              6   \n",
            "3 -0.060406              24  ...  0.000257              21              1   \n",
            "4 -0.083647              55  ... -0.151553               8              7   \n",
            "\n",
            "   1_qt_interval  1_st_interval  1_qrs_morph0  1_qrs_morph1  1_qrs_morph2  \\\n",
            "0             40              2     -0.137798     -0.114994     -0.027546   \n",
            "1             25             13     -0.001023     -0.056376     -0.141845   \n",
            "2             48             19      0.025466      0.046664      0.114805   \n",
            "3             37             15      0.000257      0.024872      0.143673   \n",
            "4             32             17     -0.151553     -0.257930     -0.478081   \n",
            "\n",
            "   1_qrs_morph3  1_qrs_morph4  \n",
            "0      0.151754      0.380846  \n",
            "1     -0.235228     -0.308073  \n",
            "2      0.123950     -0.079053  \n",
            "3      0.079951     -0.500232  \n",
            "4     -0.578228     -0.723954  \n",
            "\n",
            "[5 rows x 34 columns]\n"
          ]
        }
      ]
    },
    {
      "cell_type": "code",
      "source": [
        "# Load the scaler\n",
        "scaler = joblib.load(\"scaler.pkl\")\n",
        "print(\"Pulling saved scaler.pkl from session path...\")"
      ],
      "metadata": {
        "id": "TGg04bbHgf6S",
        "colab": {
          "base_uri": "https://localhost:8080/"
        },
        "outputId": "a70bb73f-cac4-4d01-9c8d-455ffa80d614"
      },
      "execution_count": null,
      "outputs": [
        {
          "output_type": "stream",
          "name": "stdout",
          "text": [
            "Pulling saved scaler.pkl from session path...\n"
          ]
        }
      ]
    },
    {
      "cell_type": "markdown",
      "source": [
        "## Mean Calculations for Essential Features.\n"
      ],
      "metadata": {
        "id": "6kmEKZJKt_3V"
      }
    },
    {
      "cell_type": "code",
      "source": [
        "# printing all attributes (32)\n",
        "prediction_features = X.columns.tolist()\n",
        "prediction_features"
      ],
      "metadata": {
        "id": "QMBwcatye_tx",
        "colab": {
          "base_uri": "https://localhost:8080/"
        },
        "outputId": "7c0eeddf-317e-4d09-a4ce-507f013c491f"
      },
      "execution_count": null,
      "outputs": [
        {
          "output_type": "execute_result",
          "data": {
            "text/plain": [
              "['0_pre-RR',\n",
              " '0_post-RR',\n",
              " '0_pPeak',\n",
              " '0_tPeak',\n",
              " '0_rPeak',\n",
              " '0_sPeak',\n",
              " '0_qPeak',\n",
              " '0_qrs_interval',\n",
              " '0_pq_interval',\n",
              " '0_qt_interval',\n",
              " '0_st_interval',\n",
              " '0_qrs_morph0',\n",
              " '0_qrs_morph1',\n",
              " '0_qrs_morph2',\n",
              " '0_qrs_morph3',\n",
              " '0_qrs_morph4',\n",
              " '1_pre-RR',\n",
              " '1_post-RR',\n",
              " '1_pPeak',\n",
              " '1_tPeak',\n",
              " '1_rPeak',\n",
              " '1_sPeak',\n",
              " '1_qPeak',\n",
              " '1_qrs_interval',\n",
              " '1_pq_interval',\n",
              " '1_qt_interval',\n",
              " '1_st_interval',\n",
              " '1_qrs_morph0',\n",
              " '1_qrs_morph1',\n",
              " '1_qrs_morph2',\n",
              " '1_qrs_morph3',\n",
              " '1_qrs_morph4']"
            ]
          },
          "metadata": {},
          "execution_count": 112
        }
      ]
    },
    {
      "cell_type": "code",
      "source": [
        "# showing means for each type (for our reference)\n",
        "print(\"\\n [Per class means for each feature]\\n\")\n",
        "classwise_means = df.groupby(\"type\")[prediction_features].mean().round(2)\n",
        "classwise_means.index = classwise_means.index.map({0: \"N\", 1: \"VEB\", 2: \"SVEB\"})\n",
        "display(classwise_means)"
      ],
      "metadata": {
        "id": "yF6bwRsjfBxy",
        "colab": {
          "base_uri": "https://localhost:8080/",
          "height": 294
        },
        "outputId": "007d0b82-1834-4f21-feb2-de8c3cb7fa64"
      },
      "execution_count": null,
      "outputs": [
        {
          "output_type": "stream",
          "name": "stdout",
          "text": [
            "\n",
            " [Per class means for each feature]\n",
            "\n"
          ]
        },
        {
          "output_type": "display_data",
          "data": {
            "text/plain": [
              "      0_pre-RR  0_post-RR  0_pPeak  0_tPeak  0_rPeak  0_sPeak  0_qPeak  \\\n",
              "type                                                                     \n",
              "N       287.21     275.97     0.04     0.36     1.09    -0.07    -0.08   \n",
              "VEB     185.06     307.18     0.24     0.52     0.52    -1.09    -0.30   \n",
              "SVEB    218.76     310.24     0.05     0.49     0.69     0.24    -0.03   \n",
              "\n",
              "      0_qrs_interval  0_pq_interval  0_qt_interval  ...  1_qPeak  \\\n",
              "type                                                ...            \n",
              "N              27.82          10.68          57.76  ...    -0.30   \n",
              "VEB            37.25          18.26          95.85  ...    -0.48   \n",
              "SVEB           23.03           8.91          40.47  ...    -0.16   \n",
              "\n",
              "      1_qrs_interval  1_pq_interval  1_qt_interval  1_st_interval  \\\n",
              "type                                                                \n",
              "N              11.03           9.69          34.54          13.82   \n",
              "VEB            13.99          19.28          53.78          20.51   \n",
              "SVEB           13.25           8.87          34.57          12.45   \n",
              "\n",
              "      1_qrs_morph0  1_qrs_morph1  1_qrs_morph2  1_qrs_morph3  1_qrs_morph4  \n",
              "type                                                                        \n",
              "N            -0.30         -0.30         -0.29         -0.26         -0.34  \n",
              "VEB          -0.48         -0.45         -0.42         -0.43         -0.48  \n",
              "SVEB         -0.16         -0.15         -0.15         -0.19         -0.31  \n",
              "\n",
              "[3 rows x 32 columns]"
            ],
            "text/html": [
              "\n",
              "  <div id=\"df-5828b87d-0a38-456a-b5ce-e47252bea042\" class=\"colab-df-container\">\n",
              "    <div>\n",
              "<style scoped>\n",
              "    .dataframe tbody tr th:only-of-type {\n",
              "        vertical-align: middle;\n",
              "    }\n",
              "\n",
              "    .dataframe tbody tr th {\n",
              "        vertical-align: top;\n",
              "    }\n",
              "\n",
              "    .dataframe thead th {\n",
              "        text-align: right;\n",
              "    }\n",
              "</style>\n",
              "<table border=\"1\" class=\"dataframe\">\n",
              "  <thead>\n",
              "    <tr style=\"text-align: right;\">\n",
              "      <th></th>\n",
              "      <th>0_pre-RR</th>\n",
              "      <th>0_post-RR</th>\n",
              "      <th>0_pPeak</th>\n",
              "      <th>0_tPeak</th>\n",
              "      <th>0_rPeak</th>\n",
              "      <th>0_sPeak</th>\n",
              "      <th>0_qPeak</th>\n",
              "      <th>0_qrs_interval</th>\n",
              "      <th>0_pq_interval</th>\n",
              "      <th>0_qt_interval</th>\n",
              "      <th>...</th>\n",
              "      <th>1_qPeak</th>\n",
              "      <th>1_qrs_interval</th>\n",
              "      <th>1_pq_interval</th>\n",
              "      <th>1_qt_interval</th>\n",
              "      <th>1_st_interval</th>\n",
              "      <th>1_qrs_morph0</th>\n",
              "      <th>1_qrs_morph1</th>\n",
              "      <th>1_qrs_morph2</th>\n",
              "      <th>1_qrs_morph3</th>\n",
              "      <th>1_qrs_morph4</th>\n",
              "    </tr>\n",
              "    <tr>\n",
              "      <th>type</th>\n",
              "      <th></th>\n",
              "      <th></th>\n",
              "      <th></th>\n",
              "      <th></th>\n",
              "      <th></th>\n",
              "      <th></th>\n",
              "      <th></th>\n",
              "      <th></th>\n",
              "      <th></th>\n",
              "      <th></th>\n",
              "      <th></th>\n",
              "      <th></th>\n",
              "      <th></th>\n",
              "      <th></th>\n",
              "      <th></th>\n",
              "      <th></th>\n",
              "      <th></th>\n",
              "      <th></th>\n",
              "      <th></th>\n",
              "      <th></th>\n",
              "      <th></th>\n",
              "    </tr>\n",
              "  </thead>\n",
              "  <tbody>\n",
              "    <tr>\n",
              "      <th>N</th>\n",
              "      <td>287.21</td>\n",
              "      <td>275.97</td>\n",
              "      <td>0.04</td>\n",
              "      <td>0.36</td>\n",
              "      <td>1.09</td>\n",
              "      <td>-0.07</td>\n",
              "      <td>-0.08</td>\n",
              "      <td>27.82</td>\n",
              "      <td>10.68</td>\n",
              "      <td>57.76</td>\n",
              "      <td>...</td>\n",
              "      <td>-0.30</td>\n",
              "      <td>11.03</td>\n",
              "      <td>9.69</td>\n",
              "      <td>34.54</td>\n",
              "      <td>13.82</td>\n",
              "      <td>-0.30</td>\n",
              "      <td>-0.30</td>\n",
              "      <td>-0.29</td>\n",
              "      <td>-0.26</td>\n",
              "      <td>-0.34</td>\n",
              "    </tr>\n",
              "    <tr>\n",
              "      <th>VEB</th>\n",
              "      <td>185.06</td>\n",
              "      <td>307.18</td>\n",
              "      <td>0.24</td>\n",
              "      <td>0.52</td>\n",
              "      <td>0.52</td>\n",
              "      <td>-1.09</td>\n",
              "      <td>-0.30</td>\n",
              "      <td>37.25</td>\n",
              "      <td>18.26</td>\n",
              "      <td>95.85</td>\n",
              "      <td>...</td>\n",
              "      <td>-0.48</td>\n",
              "      <td>13.99</td>\n",
              "      <td>19.28</td>\n",
              "      <td>53.78</td>\n",
              "      <td>20.51</td>\n",
              "      <td>-0.48</td>\n",
              "      <td>-0.45</td>\n",
              "      <td>-0.42</td>\n",
              "      <td>-0.43</td>\n",
              "      <td>-0.48</td>\n",
              "    </tr>\n",
              "    <tr>\n",
              "      <th>SVEB</th>\n",
              "      <td>218.76</td>\n",
              "      <td>310.24</td>\n",
              "      <td>0.05</td>\n",
              "      <td>0.49</td>\n",
              "      <td>0.69</td>\n",
              "      <td>0.24</td>\n",
              "      <td>-0.03</td>\n",
              "      <td>23.03</td>\n",
              "      <td>8.91</td>\n",
              "      <td>40.47</td>\n",
              "      <td>...</td>\n",
              "      <td>-0.16</td>\n",
              "      <td>13.25</td>\n",
              "      <td>8.87</td>\n",
              "      <td>34.57</td>\n",
              "      <td>12.45</td>\n",
              "      <td>-0.16</td>\n",
              "      <td>-0.15</td>\n",
              "      <td>-0.15</td>\n",
              "      <td>-0.19</td>\n",
              "      <td>-0.31</td>\n",
              "    </tr>\n",
              "  </tbody>\n",
              "</table>\n",
              "<p>3 rows × 32 columns</p>\n",
              "</div>\n",
              "    <div class=\"colab-df-buttons\">\n",
              "\n",
              "  <div class=\"colab-df-container\">\n",
              "    <button class=\"colab-df-convert\" onclick=\"convertToInteractive('df-5828b87d-0a38-456a-b5ce-e47252bea042')\"\n",
              "            title=\"Convert this dataframe to an interactive table.\"\n",
              "            style=\"display:none;\">\n",
              "\n",
              "  <svg xmlns=\"http://www.w3.org/2000/svg\" height=\"24px\" viewBox=\"0 -960 960 960\">\n",
              "    <path d=\"M120-120v-720h720v720H120Zm60-500h600v-160H180v160Zm220 220h160v-160H400v160Zm0 220h160v-160H400v160ZM180-400h160v-160H180v160Zm440 0h160v-160H620v160ZM180-180h160v-160H180v160Zm440 0h160v-160H620v160Z\"/>\n",
              "  </svg>\n",
              "    </button>\n",
              "\n",
              "  <style>\n",
              "    .colab-df-container {\n",
              "      display:flex;\n",
              "      gap: 12px;\n",
              "    }\n",
              "\n",
              "    .colab-df-convert {\n",
              "      background-color: #E8F0FE;\n",
              "      border: none;\n",
              "      border-radius: 50%;\n",
              "      cursor: pointer;\n",
              "      display: none;\n",
              "      fill: #1967D2;\n",
              "      height: 32px;\n",
              "      padding: 0 0 0 0;\n",
              "      width: 32px;\n",
              "    }\n",
              "\n",
              "    .colab-df-convert:hover {\n",
              "      background-color: #E2EBFA;\n",
              "      box-shadow: 0px 1px 2px rgba(60, 64, 67, 0.3), 0px 1px 3px 1px rgba(60, 64, 67, 0.15);\n",
              "      fill: #174EA6;\n",
              "    }\n",
              "\n",
              "    .colab-df-buttons div {\n",
              "      margin-bottom: 4px;\n",
              "    }\n",
              "\n",
              "    [theme=dark] .colab-df-convert {\n",
              "      background-color: #3B4455;\n",
              "      fill: #D2E3FC;\n",
              "    }\n",
              "\n",
              "    [theme=dark] .colab-df-convert:hover {\n",
              "      background-color: #434B5C;\n",
              "      box-shadow: 0px 1px 3px 1px rgba(0, 0, 0, 0.15);\n",
              "      filter: drop-shadow(0px 1px 2px rgba(0, 0, 0, 0.3));\n",
              "      fill: #FFFFFF;\n",
              "    }\n",
              "  </style>\n",
              "\n",
              "    <script>\n",
              "      const buttonEl =\n",
              "        document.querySelector('#df-5828b87d-0a38-456a-b5ce-e47252bea042 button.colab-df-convert');\n",
              "      buttonEl.style.display =\n",
              "        google.colab.kernel.accessAllowed ? 'block' : 'none';\n",
              "\n",
              "      async function convertToInteractive(key) {\n",
              "        const element = document.querySelector('#df-5828b87d-0a38-456a-b5ce-e47252bea042');\n",
              "        const dataTable =\n",
              "          await google.colab.kernel.invokeFunction('convertToInteractive',\n",
              "                                                    [key], {});\n",
              "        if (!dataTable) return;\n",
              "\n",
              "        const docLinkHtml = 'Like what you see? Visit the ' +\n",
              "          '<a target=\"_blank\" href=https://colab.research.google.com/notebooks/data_table.ipynb>data table notebook</a>'\n",
              "          + ' to learn more about interactive tables.';\n",
              "        element.innerHTML = '';\n",
              "        dataTable['output_type'] = 'display_data';\n",
              "        await google.colab.output.renderOutput(dataTable, element);\n",
              "        const docLink = document.createElement('div');\n",
              "        docLink.innerHTML = docLinkHtml;\n",
              "        element.appendChild(docLink);\n",
              "      }\n",
              "    </script>\n",
              "  </div>\n",
              "\n",
              "\n",
              "    <div id=\"df-f2764c65-d585-4a3e-af4f-2b0288ef4eeb\">\n",
              "      <button class=\"colab-df-quickchart\" onclick=\"quickchart('df-f2764c65-d585-4a3e-af4f-2b0288ef4eeb')\"\n",
              "                title=\"Suggest charts\"\n",
              "                style=\"display:none;\">\n",
              "\n",
              "<svg xmlns=\"http://www.w3.org/2000/svg\" height=\"24px\"viewBox=\"0 0 24 24\"\n",
              "     width=\"24px\">\n",
              "    <g>\n",
              "        <path d=\"M19 3H5c-1.1 0-2 .9-2 2v14c0 1.1.9 2 2 2h14c1.1 0 2-.9 2-2V5c0-1.1-.9-2-2-2zM9 17H7v-7h2v7zm4 0h-2V7h2v10zm4 0h-2v-4h2v4z\"/>\n",
              "    </g>\n",
              "</svg>\n",
              "      </button>\n",
              "\n",
              "<style>\n",
              "  .colab-df-quickchart {\n",
              "      --bg-color: #E8F0FE;\n",
              "      --fill-color: #1967D2;\n",
              "      --hover-bg-color: #E2EBFA;\n",
              "      --hover-fill-color: #174EA6;\n",
              "      --disabled-fill-color: #AAA;\n",
              "      --disabled-bg-color: #DDD;\n",
              "  }\n",
              "\n",
              "  [theme=dark] .colab-df-quickchart {\n",
              "      --bg-color: #3B4455;\n",
              "      --fill-color: #D2E3FC;\n",
              "      --hover-bg-color: #434B5C;\n",
              "      --hover-fill-color: #FFFFFF;\n",
              "      --disabled-bg-color: #3B4455;\n",
              "      --disabled-fill-color: #666;\n",
              "  }\n",
              "\n",
              "  .colab-df-quickchart {\n",
              "    background-color: var(--bg-color);\n",
              "    border: none;\n",
              "    border-radius: 50%;\n",
              "    cursor: pointer;\n",
              "    display: none;\n",
              "    fill: var(--fill-color);\n",
              "    height: 32px;\n",
              "    padding: 0;\n",
              "    width: 32px;\n",
              "  }\n",
              "\n",
              "  .colab-df-quickchart:hover {\n",
              "    background-color: var(--hover-bg-color);\n",
              "    box-shadow: 0 1px 2px rgba(60, 64, 67, 0.3), 0 1px 3px 1px rgba(60, 64, 67, 0.15);\n",
              "    fill: var(--button-hover-fill-color);\n",
              "  }\n",
              "\n",
              "  .colab-df-quickchart-complete:disabled,\n",
              "  .colab-df-quickchart-complete:disabled:hover {\n",
              "    background-color: var(--disabled-bg-color);\n",
              "    fill: var(--disabled-fill-color);\n",
              "    box-shadow: none;\n",
              "  }\n",
              "\n",
              "  .colab-df-spinner {\n",
              "    border: 2px solid var(--fill-color);\n",
              "    border-color: transparent;\n",
              "    border-bottom-color: var(--fill-color);\n",
              "    animation:\n",
              "      spin 1s steps(1) infinite;\n",
              "  }\n",
              "\n",
              "  @keyframes spin {\n",
              "    0% {\n",
              "      border-color: transparent;\n",
              "      border-bottom-color: var(--fill-color);\n",
              "      border-left-color: var(--fill-color);\n",
              "    }\n",
              "    20% {\n",
              "      border-color: transparent;\n",
              "      border-left-color: var(--fill-color);\n",
              "      border-top-color: var(--fill-color);\n",
              "    }\n",
              "    30% {\n",
              "      border-color: transparent;\n",
              "      border-left-color: var(--fill-color);\n",
              "      border-top-color: var(--fill-color);\n",
              "      border-right-color: var(--fill-color);\n",
              "    }\n",
              "    40% {\n",
              "      border-color: transparent;\n",
              "      border-right-color: var(--fill-color);\n",
              "      border-top-color: var(--fill-color);\n",
              "    }\n",
              "    60% {\n",
              "      border-color: transparent;\n",
              "      border-right-color: var(--fill-color);\n",
              "    }\n",
              "    80% {\n",
              "      border-color: transparent;\n",
              "      border-right-color: var(--fill-color);\n",
              "      border-bottom-color: var(--fill-color);\n",
              "    }\n",
              "    90% {\n",
              "      border-color: transparent;\n",
              "      border-bottom-color: var(--fill-color);\n",
              "    }\n",
              "  }\n",
              "</style>\n",
              "\n",
              "      <script>\n",
              "        async function quickchart(key) {\n",
              "          const quickchartButtonEl =\n",
              "            document.querySelector('#' + key + ' button');\n",
              "          quickchartButtonEl.disabled = true;  // To prevent multiple clicks.\n",
              "          quickchartButtonEl.classList.add('colab-df-spinner');\n",
              "          try {\n",
              "            const charts = await google.colab.kernel.invokeFunction(\n",
              "                'suggestCharts', [key], {});\n",
              "          } catch (error) {\n",
              "            console.error('Error during call to suggestCharts:', error);\n",
              "          }\n",
              "          quickchartButtonEl.classList.remove('colab-df-spinner');\n",
              "          quickchartButtonEl.classList.add('colab-df-quickchart-complete');\n",
              "        }\n",
              "        (() => {\n",
              "          let quickchartButtonEl =\n",
              "            document.querySelector('#df-f2764c65-d585-4a3e-af4f-2b0288ef4eeb button');\n",
              "          quickchartButtonEl.style.display =\n",
              "            google.colab.kernel.accessAllowed ? 'block' : 'none';\n",
              "        })();\n",
              "      </script>\n",
              "    </div>\n",
              "\n",
              "  <div id=\"id_53ee4b4f-9fa8-4e7a-a3ef-ad06bbfb3031\">\n",
              "    <style>\n",
              "      .colab-df-generate {\n",
              "        background-color: #E8F0FE;\n",
              "        border: none;\n",
              "        border-radius: 50%;\n",
              "        cursor: pointer;\n",
              "        display: none;\n",
              "        fill: #1967D2;\n",
              "        height: 32px;\n",
              "        padding: 0 0 0 0;\n",
              "        width: 32px;\n",
              "      }\n",
              "\n",
              "      .colab-df-generate:hover {\n",
              "        background-color: #E2EBFA;\n",
              "        box-shadow: 0px 1px 2px rgba(60, 64, 67, 0.3), 0px 1px 3px 1px rgba(60, 64, 67, 0.15);\n",
              "        fill: #174EA6;\n",
              "      }\n",
              "\n",
              "      [theme=dark] .colab-df-generate {\n",
              "        background-color: #3B4455;\n",
              "        fill: #D2E3FC;\n",
              "      }\n",
              "\n",
              "      [theme=dark] .colab-df-generate:hover {\n",
              "        background-color: #434B5C;\n",
              "        box-shadow: 0px 1px 3px 1px rgba(0, 0, 0, 0.15);\n",
              "        filter: drop-shadow(0px 1px 2px rgba(0, 0, 0, 0.3));\n",
              "        fill: #FFFFFF;\n",
              "      }\n",
              "    </style>\n",
              "    <button class=\"colab-df-generate\" onclick=\"generateWithVariable('classwise_means')\"\n",
              "            title=\"Generate code using this dataframe.\"\n",
              "            style=\"display:none;\">\n",
              "\n",
              "  <svg xmlns=\"http://www.w3.org/2000/svg\" height=\"24px\"viewBox=\"0 0 24 24\"\n",
              "       width=\"24px\">\n",
              "    <path d=\"M7,19H8.4L18.45,9,17,7.55,7,17.6ZM5,21V16.75L18.45,3.32a2,2,0,0,1,2.83,0l1.4,1.43a1.91,1.91,0,0,1,.58,1.4,1.91,1.91,0,0,1-.58,1.4L9.25,21ZM18.45,9,17,7.55Zm-12,3A5.31,5.31,0,0,0,4.9,8.1,5.31,5.31,0,0,0,1,6.5,5.31,5.31,0,0,0,4.9,4.9,5.31,5.31,0,0,0,6.5,1,5.31,5.31,0,0,0,8.1,4.9,5.31,5.31,0,0,0,12,6.5,5.46,5.46,0,0,0,6.5,12Z\"/>\n",
              "  </svg>\n",
              "    </button>\n",
              "    <script>\n",
              "      (() => {\n",
              "      const buttonEl =\n",
              "        document.querySelector('#id_53ee4b4f-9fa8-4e7a-a3ef-ad06bbfb3031 button.colab-df-generate');\n",
              "      buttonEl.style.display =\n",
              "        google.colab.kernel.accessAllowed ? 'block' : 'none';\n",
              "\n",
              "      buttonEl.onclick = () => {\n",
              "        google.colab.notebook.generateWithVariable('classwise_means');\n",
              "      }\n",
              "      })();\n",
              "    </script>\n",
              "  </div>\n",
              "\n",
              "    </div>\n",
              "  </div>\n"
            ],
            "application/vnd.google.colaboratory.intrinsic+json": {
              "type": "dataframe",
              "variable_name": "classwise_means"
            }
          },
          "metadata": {}
        }
      ]
    },
    {
      "cell_type": "code",
      "source": [
        "# save as .csv\n",
        "df_means = pd.concat([classwise_means])\n",
        "output_path1 = \"classwise_means1.csv\"\n",
        "df_means.to_csv(output_path1, index = False)\n",
        "\n",
        "print(\"Uploading\", output_path1, \"to session path...\")"
      ],
      "metadata": {
        "id": "dJFuD4cQfDn5",
        "colab": {
          "base_uri": "https://localhost:8080/"
        },
        "outputId": "526a82a9-6261-4db9-9105-8b6c6a12c689"
      },
      "execution_count": null,
      "outputs": [
        {
          "output_type": "stream",
          "name": "stdout",
          "text": [
            "Uploading classwise_means1.csv to session path...\n"
          ]
        }
      ]
    },
    {
      "cell_type": "code",
      "source": [
        "# Combine into balanced subset\n",
        "df_test = df_balanced.drop(columns=[\"record\", \"type\"])  #independent features\n",
        "\n",
        "# save as .csv\n",
        "# output_path = \"balanced_dataset.csv\" #1\n",
        "X = df.drop(columns=[\"record\", \"type\"])  #independent features\n",
        "output_path2 = \"test_dataset.csv\"\n",
        "df_test.to_csv(output_path2, index = False)\n",
        "\n",
        "print(\"Uploading\", output_path2, \"to session path...\")"
      ],
      "metadata": {
        "id": "Cbbz4Z86fIOX",
        "colab": {
          "base_uri": "https://localhost:8080/"
        },
        "outputId": "808f9a05-1c87-4beb-ff34-d9ea0a44feaa"
      },
      "execution_count": null,
      "outputs": [
        {
          "output_type": "stream",
          "name": "stdout",
          "text": [
            "Uploading test_dataset.csv to session path...\n"
          ]
        }
      ]
    },
    {
      "cell_type": "markdown",
      "source": [
        "## Predictor Manual Accuracy Test.\n",
        "Legend:\n",
        "\n",
        "\n",
        "*   0: Normal (N)\n",
        "*   1: Ventricular Ectopic Beat (VEB)\n",
        "*   2: Supraventricular Ectopic Beat (SVEB)"
      ],
      "metadata": {
        "id": "kwA7CrPV0oii"
      }
    },
    {
      "cell_type": "code",
      "source": [
        "# ZIQI'S TESTING\n",
        "\n",
        "# Load your CSV containing new observations\n",
        "# input_df = pd.read_csv(output_path)\n",
        "input_df = pd.read_csv(output_path2)\n",
        "\n",
        "# Load scaler and model (already trained)\n",
        "scaler = joblib.load(\"scaler.pkl\")\n",
        "model.eval()\n",
        "\n",
        "# Ensure model is on the correct device\n",
        "device = torch.device(\"cuda\" if torch.cuda.is_available() else \"cpu\")\n",
        "model.to(device)\n",
        "\n",
        "# Make sure your feature list matches the columns in input_df\n",
        "# e.g. if you dropped 2 columns, prediction_features should be length 30 now\n",
        "prediction_features = [col for col in prediction_features if col in input_df.columns]\n",
        "\n",
        "\n",
        "for idx, (_, row) in enumerate(input_df.iterrows()):\n",
        "    if idx >= 500:\n",
        "        break\n",
        "\n",
        "    # Build a one‐row DataFrame with EXACTLY the same column names as the scaler expects\n",
        "    user_input_df = pd.DataFrame([row[prediction_features]], columns=prediction_features)\n",
        "\n",
        "    # Now transform using the scaler (no warning, names line up)\n",
        "    user_input_scaled = scaler.transform(user_input_df)\n",
        "\n",
        "    # Convert to tensor and send to device\n",
        "    user_tensor = torch.tensor(user_input_scaled, dtype=torch.float32).to(device)\n",
        "\n",
        "    # Predict\n",
        "    model.eval()\n",
        "    with torch.no_grad():\n",
        "        output = model(user_tensor)\n",
        "        prediction = torch.argmax(output, dim=1).item()\n",
        "\n",
        "    print(f\"Row {idx+1} → Predicted arrhythmia type: {prediction}\")"
      ],
      "metadata": {
        "id": "RWj3Xic5fvHf",
        "colab": {
          "base_uri": "https://localhost:8080/"
        },
        "outputId": "488dea13-b745-4f97-d0cc-3ffabc8e045c"
      },
      "execution_count": null,
      "outputs": [
        {
          "output_type": "stream",
          "name": "stdout",
          "text": [
            "Row 1 → Predicted arrhythmia type: 1\n",
            "Row 2 → Predicted arrhythmia type: 0\n",
            "Row 3 → Predicted arrhythmia type: 0\n",
            "Row 4 → Predicted arrhythmia type: 0\n",
            "Row 5 → Predicted arrhythmia type: 0\n",
            "Row 6 → Predicted arrhythmia type: 1\n",
            "Row 7 → Predicted arrhythmia type: 0\n",
            "Row 8 → Predicted arrhythmia type: 1\n",
            "Row 9 → Predicted arrhythmia type: 1\n",
            "Row 10 → Predicted arrhythmia type: 0\n",
            "Row 11 → Predicted arrhythmia type: 0\n",
            "Row 12 → Predicted arrhythmia type: 1\n",
            "Row 13 → Predicted arrhythmia type: 1\n",
            "Row 14 → Predicted arrhythmia type: 1\n",
            "Row 15 → Predicted arrhythmia type: 0\n",
            "Row 16 → Predicted arrhythmia type: 1\n",
            "Row 17 → Predicted arrhythmia type: 0\n",
            "Row 18 → Predicted arrhythmia type: 2\n",
            "Row 19 → Predicted arrhythmia type: 1\n",
            "Row 20 → Predicted arrhythmia type: 2\n",
            "Row 21 → Predicted arrhythmia type: 2\n",
            "Row 22 → Predicted arrhythmia type: 0\n",
            "Row 23 → Predicted arrhythmia type: 0\n",
            "Row 24 → Predicted arrhythmia type: 2\n",
            "Row 25 → Predicted arrhythmia type: 0\n",
            "Row 26 → Predicted arrhythmia type: 2\n",
            "Row 27 → Predicted arrhythmia type: 0\n",
            "Row 28 → Predicted arrhythmia type: 2\n",
            "Row 29 → Predicted arrhythmia type: 1\n",
            "Row 30 → Predicted arrhythmia type: 2\n",
            "Row 31 → Predicted arrhythmia type: 0\n",
            "Row 32 → Predicted arrhythmia type: 0\n",
            "Row 33 → Predicted arrhythmia type: 0\n",
            "Row 34 → Predicted arrhythmia type: 0\n",
            "Row 35 → Predicted arrhythmia type: 2\n",
            "Row 36 → Predicted arrhythmia type: 0\n",
            "Row 37 → Predicted arrhythmia type: 1\n",
            "Row 38 → Predicted arrhythmia type: 0\n",
            "Row 39 → Predicted arrhythmia type: 0\n",
            "Row 40 → Predicted arrhythmia type: 1\n",
            "Row 41 → Predicted arrhythmia type: 1\n",
            "Row 42 → Predicted arrhythmia type: 0\n",
            "Row 43 → Predicted arrhythmia type: 2\n",
            "Row 44 → Predicted arrhythmia type: 0\n",
            "Row 45 → Predicted arrhythmia type: 2\n",
            "Row 46 → Predicted arrhythmia type: 0\n",
            "Row 47 → Predicted arrhythmia type: 0\n",
            "Row 48 → Predicted arrhythmia type: 0\n",
            "Row 49 → Predicted arrhythmia type: 0\n",
            "Row 50 → Predicted arrhythmia type: 0\n",
            "Row 51 → Predicted arrhythmia type: 0\n",
            "Row 52 → Predicted arrhythmia type: 2\n",
            "Row 53 → Predicted arrhythmia type: 0\n",
            "Row 54 → Predicted arrhythmia type: 2\n",
            "Row 55 → Predicted arrhythmia type: 0\n",
            "Row 56 → Predicted arrhythmia type: 2\n",
            "Row 57 → Predicted arrhythmia type: 0\n",
            "Row 58 → Predicted arrhythmia type: 2\n",
            "Row 59 → Predicted arrhythmia type: 0\n",
            "Row 60 → Predicted arrhythmia type: 0\n",
            "Row 61 → Predicted arrhythmia type: 0\n",
            "Row 62 → Predicted arrhythmia type: 2\n",
            "Row 63 → Predicted arrhythmia type: 1\n",
            "Row 64 → Predicted arrhythmia type: 0\n",
            "Row 65 → Predicted arrhythmia type: 0\n",
            "Row 66 → Predicted arrhythmia type: 2\n",
            "Row 67 → Predicted arrhythmia type: 0\n",
            "Row 68 → Predicted arrhythmia type: 2\n",
            "Row 69 → Predicted arrhythmia type: 1\n",
            "Row 70 → Predicted arrhythmia type: 0\n",
            "Row 71 → Predicted arrhythmia type: 1\n",
            "Row 72 → Predicted arrhythmia type: 0\n",
            "Row 73 → Predicted arrhythmia type: 0\n",
            "Row 74 → Predicted arrhythmia type: 0\n",
            "Row 75 → Predicted arrhythmia type: 0\n",
            "Row 76 → Predicted arrhythmia type: 2\n",
            "Row 77 → Predicted arrhythmia type: 0\n",
            "Row 78 → Predicted arrhythmia type: 1\n",
            "Row 79 → Predicted arrhythmia type: 2\n",
            "Row 80 → Predicted arrhythmia type: 0\n",
            "Row 81 → Predicted arrhythmia type: 2\n",
            "Row 82 → Predicted arrhythmia type: 0\n",
            "Row 83 → Predicted arrhythmia type: 1\n",
            "Row 84 → Predicted arrhythmia type: 0\n",
            "Row 85 → Predicted arrhythmia type: 1\n",
            "Row 86 → Predicted arrhythmia type: 0\n",
            "Row 87 → Predicted arrhythmia type: 0\n",
            "Row 88 → Predicted arrhythmia type: 0\n",
            "Row 89 → Predicted arrhythmia type: 2\n",
            "Row 90 → Predicted arrhythmia type: 2\n",
            "Row 91 → Predicted arrhythmia type: 1\n",
            "Row 92 → Predicted arrhythmia type: 2\n",
            "Row 93 → Predicted arrhythmia type: 2\n",
            "Row 94 → Predicted arrhythmia type: 0\n",
            "Row 95 → Predicted arrhythmia type: 0\n",
            "Row 96 → Predicted arrhythmia type: 0\n",
            "Row 97 → Predicted arrhythmia type: 2\n",
            "Row 98 → Predicted arrhythmia type: 2\n",
            "Row 99 → Predicted arrhythmia type: 2\n",
            "Row 100 → Predicted arrhythmia type: 1\n",
            "Row 101 → Predicted arrhythmia type: 0\n",
            "Row 102 → Predicted arrhythmia type: 1\n",
            "Row 103 → Predicted arrhythmia type: 0\n",
            "Row 104 → Predicted arrhythmia type: 2\n",
            "Row 105 → Predicted arrhythmia type: 1\n",
            "Row 106 → Predicted arrhythmia type: 0\n",
            "Row 107 → Predicted arrhythmia type: 0\n",
            "Row 108 → Predicted arrhythmia type: 2\n",
            "Row 109 → Predicted arrhythmia type: 2\n",
            "Row 110 → Predicted arrhythmia type: 0\n",
            "Row 111 → Predicted arrhythmia type: 1\n",
            "Row 112 → Predicted arrhythmia type: 1\n",
            "Row 113 → Predicted arrhythmia type: 0\n",
            "Row 114 → Predicted arrhythmia type: 0\n",
            "Row 115 → Predicted arrhythmia type: 2\n",
            "Row 116 → Predicted arrhythmia type: 0\n",
            "Row 117 → Predicted arrhythmia type: 2\n",
            "Row 118 → Predicted arrhythmia type: 0\n",
            "Row 119 → Predicted arrhythmia type: 0\n",
            "Row 120 → Predicted arrhythmia type: 0\n",
            "Row 121 → Predicted arrhythmia type: 1\n",
            "Row 122 → Predicted arrhythmia type: 0\n",
            "Row 123 → Predicted arrhythmia type: 2\n",
            "Row 124 → Predicted arrhythmia type: 1\n",
            "Row 125 → Predicted arrhythmia type: 0\n",
            "Row 126 → Predicted arrhythmia type: 0\n",
            "Row 127 → Predicted arrhythmia type: 0\n",
            "Row 128 → Predicted arrhythmia type: 0\n",
            "Row 129 → Predicted arrhythmia type: 2\n",
            "Row 130 → Predicted arrhythmia type: 0\n",
            "Row 131 → Predicted arrhythmia type: 1\n",
            "Row 132 → Predicted arrhythmia type: 0\n",
            "Row 133 → Predicted arrhythmia type: 0\n",
            "Row 134 → Predicted arrhythmia type: 1\n",
            "Row 135 → Predicted arrhythmia type: 2\n",
            "Row 136 → Predicted arrhythmia type: 2\n",
            "Row 137 → Predicted arrhythmia type: 0\n",
            "Row 138 → Predicted arrhythmia type: 1\n",
            "Row 139 → Predicted arrhythmia type: 0\n",
            "Row 140 → Predicted arrhythmia type: 0\n",
            "Row 141 → Predicted arrhythmia type: 0\n",
            "Row 142 → Predicted arrhythmia type: 2\n",
            "Row 143 → Predicted arrhythmia type: 1\n",
            "Row 144 → Predicted arrhythmia type: 0\n",
            "Row 145 → Predicted arrhythmia type: 2\n",
            "Row 146 → Predicted arrhythmia type: 1\n",
            "Row 147 → Predicted arrhythmia type: 1\n",
            "Row 148 → Predicted arrhythmia type: 0\n",
            "Row 149 → Predicted arrhythmia type: 0\n",
            "Row 150 → Predicted arrhythmia type: 0\n",
            "Row 151 → Predicted arrhythmia type: 1\n",
            "Row 152 → Predicted arrhythmia type: 1\n",
            "Row 153 → Predicted arrhythmia type: 0\n",
            "Row 154 → Predicted arrhythmia type: 2\n",
            "Row 155 → Predicted arrhythmia type: 1\n",
            "Row 156 → Predicted arrhythmia type: 1\n",
            "Row 157 → Predicted arrhythmia type: 1\n",
            "Row 158 → Predicted arrhythmia type: 0\n",
            "Row 159 → Predicted arrhythmia type: 1\n",
            "Row 160 → Predicted arrhythmia type: 0\n",
            "Row 161 → Predicted arrhythmia type: 0\n",
            "Row 162 → Predicted arrhythmia type: 0\n",
            "Row 163 → Predicted arrhythmia type: 2\n",
            "Row 164 → Predicted arrhythmia type: 0\n",
            "Row 165 → Predicted arrhythmia type: 0\n",
            "Row 166 → Predicted arrhythmia type: 0\n",
            "Row 167 → Predicted arrhythmia type: 2\n",
            "Row 168 → Predicted arrhythmia type: 2\n",
            "Row 169 → Predicted arrhythmia type: 2\n",
            "Row 170 → Predicted arrhythmia type: 0\n",
            "Row 171 → Predicted arrhythmia type: 0\n",
            "Row 172 → Predicted arrhythmia type: 2\n",
            "Row 173 → Predicted arrhythmia type: 1\n",
            "Row 174 → Predicted arrhythmia type: 1\n",
            "Row 175 → Predicted arrhythmia type: 0\n",
            "Row 176 → Predicted arrhythmia type: 0\n",
            "Row 177 → Predicted arrhythmia type: 0\n",
            "Row 178 → Predicted arrhythmia type: 2\n",
            "Row 179 → Predicted arrhythmia type: 0\n",
            "Row 180 → Predicted arrhythmia type: 1\n",
            "Row 181 → Predicted arrhythmia type: 2\n",
            "Row 182 → Predicted arrhythmia type: 0\n",
            "Row 183 → Predicted arrhythmia type: 1\n",
            "Row 184 → Predicted arrhythmia type: 0\n",
            "Row 185 → Predicted arrhythmia type: 1\n",
            "Row 186 → Predicted arrhythmia type: 2\n",
            "Row 187 → Predicted arrhythmia type: 0\n",
            "Row 188 → Predicted arrhythmia type: 1\n",
            "Row 189 → Predicted arrhythmia type: 0\n",
            "Row 190 → Predicted arrhythmia type: 2\n",
            "Row 191 → Predicted arrhythmia type: 2\n",
            "Row 192 → Predicted arrhythmia type: 0\n",
            "Row 193 → Predicted arrhythmia type: 0\n",
            "Row 194 → Predicted arrhythmia type: 2\n",
            "Row 195 → Predicted arrhythmia type: 2\n",
            "Row 196 → Predicted arrhythmia type: 0\n",
            "Row 197 → Predicted arrhythmia type: 0\n",
            "Row 198 → Predicted arrhythmia type: 0\n",
            "Row 199 → Predicted arrhythmia type: 0\n",
            "Row 200 → Predicted arrhythmia type: 0\n",
            "Row 201 → Predicted arrhythmia type: 1\n",
            "Row 202 → Predicted arrhythmia type: 2\n",
            "Row 203 → Predicted arrhythmia type: 0\n",
            "Row 204 → Predicted arrhythmia type: 0\n",
            "Row 205 → Predicted arrhythmia type: 2\n",
            "Row 206 → Predicted arrhythmia type: 0\n",
            "Row 207 → Predicted arrhythmia type: 2\n",
            "Row 208 → Predicted arrhythmia type: 0\n",
            "Row 209 → Predicted arrhythmia type: 2\n",
            "Row 210 → Predicted arrhythmia type: 0\n",
            "Row 211 → Predicted arrhythmia type: 0\n",
            "Row 212 → Predicted arrhythmia type: 2\n",
            "Row 213 → Predicted arrhythmia type: 1\n",
            "Row 214 → Predicted arrhythmia type: 2\n",
            "Row 215 → Predicted arrhythmia type: 1\n",
            "Row 216 → Predicted arrhythmia type: 2\n",
            "Row 217 → Predicted arrhythmia type: 1\n",
            "Row 218 → Predicted arrhythmia type: 1\n",
            "Row 219 → Predicted arrhythmia type: 2\n",
            "Row 220 → Predicted arrhythmia type: 0\n",
            "Row 221 → Predicted arrhythmia type: 2\n",
            "Row 222 → Predicted arrhythmia type: 1\n",
            "Row 223 → Predicted arrhythmia type: 2\n",
            "Row 224 → Predicted arrhythmia type: 0\n",
            "Row 225 → Predicted arrhythmia type: 2\n",
            "Row 226 → Predicted arrhythmia type: 0\n",
            "Row 227 → Predicted arrhythmia type: 2\n",
            "Row 228 → Predicted arrhythmia type: 1\n",
            "Row 229 → Predicted arrhythmia type: 0\n",
            "Row 230 → Predicted arrhythmia type: 1\n",
            "Row 231 → Predicted arrhythmia type: 0\n",
            "Row 232 → Predicted arrhythmia type: 0\n",
            "Row 233 → Predicted arrhythmia type: 1\n",
            "Row 234 → Predicted arrhythmia type: 1\n",
            "Row 235 → Predicted arrhythmia type: 0\n",
            "Row 236 → Predicted arrhythmia type: 1\n",
            "Row 237 → Predicted arrhythmia type: 1\n",
            "Row 238 → Predicted arrhythmia type: 0\n",
            "Row 239 → Predicted arrhythmia type: 1\n",
            "Row 240 → Predicted arrhythmia type: 2\n",
            "Row 241 → Predicted arrhythmia type: 2\n",
            "Row 242 → Predicted arrhythmia type: 0\n",
            "Row 243 → Predicted arrhythmia type: 0\n",
            "Row 244 → Predicted arrhythmia type: 0\n",
            "Row 245 → Predicted arrhythmia type: 0\n",
            "Row 246 → Predicted arrhythmia type: 0\n",
            "Row 247 → Predicted arrhythmia type: 1\n",
            "Row 248 → Predicted arrhythmia type: 0\n",
            "Row 249 → Predicted arrhythmia type: 0\n",
            "Row 250 → Predicted arrhythmia type: 0\n",
            "Row 251 → Predicted arrhythmia type: 2\n",
            "Row 252 → Predicted arrhythmia type: 1\n",
            "Row 253 → Predicted arrhythmia type: 2\n",
            "Row 254 → Predicted arrhythmia type: 1\n",
            "Row 255 → Predicted arrhythmia type: 2\n",
            "Row 256 → Predicted arrhythmia type: 2\n",
            "Row 257 → Predicted arrhythmia type: 0\n",
            "Row 258 → Predicted arrhythmia type: 2\n",
            "Row 259 → Predicted arrhythmia type: 0\n",
            "Row 260 → Predicted arrhythmia type: 0\n",
            "Row 261 → Predicted arrhythmia type: 0\n",
            "Row 262 → Predicted arrhythmia type: 1\n",
            "Row 263 → Predicted arrhythmia type: 2\n",
            "Row 264 → Predicted arrhythmia type: 0\n",
            "Row 265 → Predicted arrhythmia type: 0\n",
            "Row 266 → Predicted arrhythmia type: 1\n",
            "Row 267 → Predicted arrhythmia type: 2\n",
            "Row 268 → Predicted arrhythmia type: 0\n",
            "Row 269 → Predicted arrhythmia type: 0\n",
            "Row 270 → Predicted arrhythmia type: 0\n",
            "Row 271 → Predicted arrhythmia type: 0\n",
            "Row 272 → Predicted arrhythmia type: 2\n",
            "Row 273 → Predicted arrhythmia type: 2\n",
            "Row 274 → Predicted arrhythmia type: 2\n",
            "Row 275 → Predicted arrhythmia type: 0\n",
            "Row 276 → Predicted arrhythmia type: 1\n",
            "Row 277 → Predicted arrhythmia type: 2\n",
            "Row 278 → Predicted arrhythmia type: 0\n",
            "Row 279 → Predicted arrhythmia type: 1\n",
            "Row 280 → Predicted arrhythmia type: 1\n",
            "Row 281 → Predicted arrhythmia type: 1\n",
            "Row 282 → Predicted arrhythmia type: 0\n",
            "Row 283 → Predicted arrhythmia type: 2\n",
            "Row 284 → Predicted arrhythmia type: 2\n",
            "Row 285 → Predicted arrhythmia type: 2\n",
            "Row 286 → Predicted arrhythmia type: 1\n",
            "Row 287 → Predicted arrhythmia type: 0\n",
            "Row 288 → Predicted arrhythmia type: 0\n",
            "Row 289 → Predicted arrhythmia type: 0\n",
            "Row 290 → Predicted arrhythmia type: 0\n",
            "Row 291 → Predicted arrhythmia type: 1\n",
            "Row 292 → Predicted arrhythmia type: 1\n",
            "Row 293 → Predicted arrhythmia type: 2\n",
            "Row 294 → Predicted arrhythmia type: 0\n",
            "Row 295 → Predicted arrhythmia type: 2\n",
            "Row 296 → Predicted arrhythmia type: 1\n",
            "Row 297 → Predicted arrhythmia type: 2\n",
            "Row 298 → Predicted arrhythmia type: 1\n",
            "Row 299 → Predicted arrhythmia type: 0\n",
            "Row 300 → Predicted arrhythmia type: 2\n",
            "Row 301 → Predicted arrhythmia type: 1\n",
            "Row 302 → Predicted arrhythmia type: 0\n",
            "Row 303 → Predicted arrhythmia type: 1\n",
            "Row 304 → Predicted arrhythmia type: 2\n",
            "Row 305 → Predicted arrhythmia type: 0\n",
            "Row 306 → Predicted arrhythmia type: 1\n",
            "Row 307 → Predicted arrhythmia type: 2\n",
            "Row 308 → Predicted arrhythmia type: 1\n",
            "Row 309 → Predicted arrhythmia type: 0\n",
            "Row 310 → Predicted arrhythmia type: 1\n",
            "Row 311 → Predicted arrhythmia type: 2\n",
            "Row 312 → Predicted arrhythmia type: 2\n",
            "Row 313 → Predicted arrhythmia type: 2\n",
            "Row 314 → Predicted arrhythmia type: 1\n",
            "Row 315 → Predicted arrhythmia type: 0\n",
            "Row 316 → Predicted arrhythmia type: 1\n",
            "Row 317 → Predicted arrhythmia type: 0\n",
            "Row 318 → Predicted arrhythmia type: 1\n",
            "Row 319 → Predicted arrhythmia type: 2\n",
            "Row 320 → Predicted arrhythmia type: 1\n",
            "Row 321 → Predicted arrhythmia type: 1\n",
            "Row 322 → Predicted arrhythmia type: 0\n",
            "Row 323 → Predicted arrhythmia type: 1\n",
            "Row 324 → Predicted arrhythmia type: 2\n",
            "Row 325 → Predicted arrhythmia type: 1\n",
            "Row 326 → Predicted arrhythmia type: 1\n",
            "Row 327 → Predicted arrhythmia type: 0\n",
            "Row 328 → Predicted arrhythmia type: 2\n",
            "Row 329 → Predicted arrhythmia type: 2\n",
            "Row 330 → Predicted arrhythmia type: 0\n",
            "Row 331 → Predicted arrhythmia type: 0\n",
            "Row 332 → Predicted arrhythmia type: 0\n",
            "Row 333 → Predicted arrhythmia type: 0\n",
            "Row 334 → Predicted arrhythmia type: 0\n",
            "Row 335 → Predicted arrhythmia type: 2\n",
            "Row 336 → Predicted arrhythmia type: 0\n",
            "Row 337 → Predicted arrhythmia type: 0\n",
            "Row 338 → Predicted arrhythmia type: 1\n",
            "Row 339 → Predicted arrhythmia type: 1\n",
            "Row 340 → Predicted arrhythmia type: 0\n",
            "Row 341 → Predicted arrhythmia type: 1\n",
            "Row 342 → Predicted arrhythmia type: 2\n",
            "Row 343 → Predicted arrhythmia type: 0\n",
            "Row 344 → Predicted arrhythmia type: 2\n",
            "Row 345 → Predicted arrhythmia type: 2\n",
            "Row 346 → Predicted arrhythmia type: 0\n",
            "Row 347 → Predicted arrhythmia type: 0\n",
            "Row 348 → Predicted arrhythmia type: 2\n",
            "Row 349 → Predicted arrhythmia type: 1\n",
            "Row 350 → Predicted arrhythmia type: 1\n",
            "Row 351 → Predicted arrhythmia type: 2\n",
            "Row 352 → Predicted arrhythmia type: 0\n",
            "Row 353 → Predicted arrhythmia type: 0\n",
            "Row 354 → Predicted arrhythmia type: 0\n",
            "Row 355 → Predicted arrhythmia type: 2\n",
            "Row 356 → Predicted arrhythmia type: 0\n",
            "Row 357 → Predicted arrhythmia type: 1\n",
            "Row 358 → Predicted arrhythmia type: 0\n",
            "Row 359 → Predicted arrhythmia type: 2\n",
            "Row 360 → Predicted arrhythmia type: 0\n",
            "Row 361 → Predicted arrhythmia type: 0\n",
            "Row 362 → Predicted arrhythmia type: 1\n",
            "Row 363 → Predicted arrhythmia type: 0\n",
            "Row 364 → Predicted arrhythmia type: 1\n",
            "Row 365 → Predicted arrhythmia type: 1\n",
            "Row 366 → Predicted arrhythmia type: 1\n",
            "Row 367 → Predicted arrhythmia type: 1\n",
            "Row 368 → Predicted arrhythmia type: 2\n",
            "Row 369 → Predicted arrhythmia type: 0\n",
            "Row 370 → Predicted arrhythmia type: 0\n",
            "Row 371 → Predicted arrhythmia type: 0\n",
            "Row 372 → Predicted arrhythmia type: 1\n",
            "Row 373 → Predicted arrhythmia type: 0\n",
            "Row 374 → Predicted arrhythmia type: 0\n",
            "Row 375 → Predicted arrhythmia type: 0\n",
            "Row 376 → Predicted arrhythmia type: 2\n",
            "Row 377 → Predicted arrhythmia type: 1\n",
            "Row 378 → Predicted arrhythmia type: 0\n",
            "Row 379 → Predicted arrhythmia type: 0\n",
            "Row 380 → Predicted arrhythmia type: 0\n",
            "Row 381 → Predicted arrhythmia type: 1\n",
            "Row 382 → Predicted arrhythmia type: 1\n",
            "Row 383 → Predicted arrhythmia type: 0\n",
            "Row 384 → Predicted arrhythmia type: 0\n",
            "Row 385 → Predicted arrhythmia type: 0\n",
            "Row 386 → Predicted arrhythmia type: 1\n",
            "Row 387 → Predicted arrhythmia type: 2\n",
            "Row 388 → Predicted arrhythmia type: 0\n",
            "Row 389 → Predicted arrhythmia type: 0\n",
            "Row 390 → Predicted arrhythmia type: 0\n",
            "Row 391 → Predicted arrhythmia type: 1\n",
            "Row 392 → Predicted arrhythmia type: 2\n",
            "Row 393 → Predicted arrhythmia type: 0\n",
            "Row 394 → Predicted arrhythmia type: 0\n",
            "Row 395 → Predicted arrhythmia type: 1\n",
            "Row 396 → Predicted arrhythmia type: 1\n",
            "Row 397 → Predicted arrhythmia type: 1\n",
            "Row 398 → Predicted arrhythmia type: 0\n",
            "Row 399 → Predicted arrhythmia type: 0\n",
            "Row 400 → Predicted arrhythmia type: 0\n",
            "Row 401 → Predicted arrhythmia type: 0\n",
            "Row 402 → Predicted arrhythmia type: 1\n",
            "Row 403 → Predicted arrhythmia type: 2\n",
            "Row 404 → Predicted arrhythmia type: 2\n",
            "Row 405 → Predicted arrhythmia type: 0\n",
            "Row 406 → Predicted arrhythmia type: 0\n",
            "Row 407 → Predicted arrhythmia type: 0\n",
            "Row 408 → Predicted arrhythmia type: 1\n",
            "Row 409 → Predicted arrhythmia type: 0\n",
            "Row 410 → Predicted arrhythmia type: 0\n",
            "Row 411 → Predicted arrhythmia type: 1\n",
            "Row 412 → Predicted arrhythmia type: 0\n",
            "Row 413 → Predicted arrhythmia type: 0\n",
            "Row 414 → Predicted arrhythmia type: 1\n",
            "Row 415 → Predicted arrhythmia type: 2\n",
            "Row 416 → Predicted arrhythmia type: 2\n",
            "Row 417 → Predicted arrhythmia type: 0\n",
            "Row 418 → Predicted arrhythmia type: 0\n",
            "Row 419 → Predicted arrhythmia type: 2\n",
            "Row 420 → Predicted arrhythmia type: 2\n",
            "Row 421 → Predicted arrhythmia type: 1\n",
            "Row 422 → Predicted arrhythmia type: 0\n",
            "Row 423 → Predicted arrhythmia type: 0\n",
            "Row 424 → Predicted arrhythmia type: 1\n",
            "Row 425 → Predicted arrhythmia type: 2\n",
            "Row 426 → Predicted arrhythmia type: 0\n",
            "Row 427 → Predicted arrhythmia type: 2\n",
            "Row 428 → Predicted arrhythmia type: 0\n",
            "Row 429 → Predicted arrhythmia type: 2\n",
            "Row 430 → Predicted arrhythmia type: 2\n",
            "Row 431 → Predicted arrhythmia type: 0\n",
            "Row 432 → Predicted arrhythmia type: 0\n",
            "Row 433 → Predicted arrhythmia type: 0\n",
            "Row 434 → Predicted arrhythmia type: 1\n",
            "Row 435 → Predicted arrhythmia type: 2\n",
            "Row 436 → Predicted arrhythmia type: 0\n",
            "Row 437 → Predicted arrhythmia type: 1\n",
            "Row 438 → Predicted arrhythmia type: 0\n",
            "Row 439 → Predicted arrhythmia type: 0\n",
            "Row 440 → Predicted arrhythmia type: 1\n",
            "Row 441 → Predicted arrhythmia type: 1\n",
            "Row 442 → Predicted arrhythmia type: 1\n",
            "Row 443 → Predicted arrhythmia type: 2\n",
            "Row 444 → Predicted arrhythmia type: 0\n",
            "Row 445 → Predicted arrhythmia type: 0\n",
            "Row 446 → Predicted arrhythmia type: 1\n",
            "Row 447 → Predicted arrhythmia type: 1\n",
            "Row 448 → Predicted arrhythmia type: 1\n",
            "Row 449 → Predicted arrhythmia type: 0\n",
            "Row 450 → Predicted arrhythmia type: 2\n",
            "Row 451 → Predicted arrhythmia type: 0\n",
            "Row 452 → Predicted arrhythmia type: 2\n",
            "Row 453 → Predicted arrhythmia type: 0\n",
            "Row 454 → Predicted arrhythmia type: 2\n",
            "Row 455 → Predicted arrhythmia type: 0\n",
            "Row 456 → Predicted arrhythmia type: 0\n",
            "Row 457 → Predicted arrhythmia type: 0\n",
            "Row 458 → Predicted arrhythmia type: 1\n",
            "Row 459 → Predicted arrhythmia type: 0\n",
            "Row 460 → Predicted arrhythmia type: 0\n",
            "Row 461 → Predicted arrhythmia type: 1\n",
            "Row 462 → Predicted arrhythmia type: 2\n",
            "Row 463 → Predicted arrhythmia type: 0\n",
            "Row 464 → Predicted arrhythmia type: 2\n",
            "Row 465 → Predicted arrhythmia type: 2\n",
            "Row 466 → Predicted arrhythmia type: 2\n",
            "Row 467 → Predicted arrhythmia type: 2\n",
            "Row 468 → Predicted arrhythmia type: 0\n",
            "Row 469 → Predicted arrhythmia type: 0\n",
            "Row 470 → Predicted arrhythmia type: 0\n",
            "Row 471 → Predicted arrhythmia type: 0\n",
            "Row 472 → Predicted arrhythmia type: 0\n",
            "Row 473 → Predicted arrhythmia type: 1\n",
            "Row 474 → Predicted arrhythmia type: 2\n",
            "Row 475 → Predicted arrhythmia type: 0\n",
            "Row 476 → Predicted arrhythmia type: 1\n",
            "Row 477 → Predicted arrhythmia type: 1\n",
            "Row 478 → Predicted arrhythmia type: 0\n",
            "Row 479 → Predicted arrhythmia type: 0\n",
            "Row 480 → Predicted arrhythmia type: 1\n",
            "Row 481 → Predicted arrhythmia type: 0\n",
            "Row 482 → Predicted arrhythmia type: 0\n",
            "Row 483 → Predicted arrhythmia type: 0\n",
            "Row 484 → Predicted arrhythmia type: 0\n",
            "Row 485 → Predicted arrhythmia type: 0\n",
            "Row 486 → Predicted arrhythmia type: 1\n",
            "Row 487 → Predicted arrhythmia type: 1\n",
            "Row 488 → Predicted arrhythmia type: 0\n",
            "Row 489 → Predicted arrhythmia type: 0\n",
            "Row 490 → Predicted arrhythmia type: 0\n",
            "Row 491 → Predicted arrhythmia type: 0\n",
            "Row 492 → Predicted arrhythmia type: 2\n",
            "Row 493 → Predicted arrhythmia type: 2\n",
            "Row 494 → Predicted arrhythmia type: 2\n",
            "Row 495 → Predicted arrhythmia type: 0\n",
            "Row 496 → Predicted arrhythmia type: 1\n",
            "Row 497 → Predicted arrhythmia type: 1\n",
            "Row 498 → Predicted arrhythmia type: 1\n",
            "Row 499 → Predicted arrhythmia type: 0\n",
            "Row 500 → Predicted arrhythmia type: 1\n"
          ]
        }
      ]
    },
    {
      "cell_type": "markdown",
      "source": [
        "## User Input for Predictor."
      ],
      "metadata": {
        "id": "Mm65dzxouXMc"
      }
    },
    {
      "cell_type": "code",
      "source": [
        "# ask user whether to use mean values (default) or manually input\n",
        "  # if yes -> automatcally using default mean values (Majority N)\n",
        "  # no -> manually enter 32 features\n",
        "\n",
        "use_means = input(\"Use default mean values (calculated by computer)? \\nNote: if yes, computer will calculate mean values for all types and use them as input. (yes/no): \").lower() == \"yes\"\n",
        "\n",
        "# whatever values that are collected (either manually/default means) store them in the list\n",
        "user_input = []\n",
        "\n",
        "# Input loop\n",
        "if use_means:\n",
        "  # calculate the overall mean for each of the features\n",
        "    feature_means = {col: df[col].mean() for col in prediction_features}\n",
        "    print(\"\\n Using the following mean values for prediction:\\n\")\n",
        "    for feat, mean_val in feature_means.items():\n",
        "        print(f\"{feat}: {mean_val:.4f}\")\n",
        "\n",
        "  # save mean values as user input\n",
        "    user_input = [feature_means[feat] for feat in prediction_features]\n",
        "\n",
        "else:\n",
        "  # manually enter values by user\n",
        "    for feature in prediction_features:\n",
        "        val = float(input(f\"Enter value for {feature}: \"))\n",
        "        user_input.append(val)"
      ],
      "metadata": {
        "id": "ocd9OpI0f6sA",
        "colab": {
          "base_uri": "https://localhost:8080/"
        },
        "outputId": "805a9540-8caa-4d49-eb23-26c8c97c0845"
      },
      "execution_count": null,
      "outputs": [
        {
          "output_type": "stream",
          "name": "stdout",
          "text": [
            "Use default mean values (calculated by computer)? \n",
            "Note: if yes, computer will calculate mean values for all types and use them as input. (yes/no): yes\n",
            "\n",
            " Using the following mean values for prediction:\n",
            "\n",
            "0_pre-RR: 244.5585\n",
            "0_post-RR: 292.3377\n",
            "0_pPeak: 0.0905\n",
            "0_tPeak: 0.4306\n",
            "0_rPeak: 0.8492\n",
            "0_sPeak: -0.2459\n",
            "0_qPeak: -0.1219\n",
            "0_qrs_interval: 28.9798\n",
            "0_pq_interval: 12.1329\n",
            "0_qt_interval: 62.9586\n",
            "0_st_interval: 21.8459\n",
            "0_qrs_morph0: -0.1219\n",
            "0_qrs_morph1: -0.0486\n",
            "0_qrs_morph2: 0.1850\n",
            "0_qrs_morph3: 0.3808\n",
            "0_qrs_morph4: 0.1707\n",
            "1_pre-RR: 244.5585\n",
            "1_post-RR: 292.3377\n",
            "1_pPeak: 0.0309\n",
            "1_tPeak: 0.4014\n",
            "1_rPeak: -0.1226\n",
            "1_sPeak: -0.4749\n",
            "1_qPeak: -0.3088\n",
            "1_qrs_interval: 12.3266\n",
            "1_pq_interval: 11.8804\n",
            "1_qt_interval: 39.3575\n",
            "1_st_interval: 15.1505\n",
            "1_qrs_morph0: -0.3088\n",
            "1_qrs_morph1: -0.2995\n",
            "1_qrs_morph2: -0.2872\n",
            "1_qrs_morph3: -0.2876\n",
            "1_qrs_morph4: -0.3676\n"
          ]
        }
      ]
    },
    {
      "cell_type": "code",
      "source": [
        "# sanity check for user input dims (seems to glitch sometimes)\n",
        "print(\"Dimensions of Input (should be 32):\", len(user_input)) # <- MUST BE 32"
      ],
      "metadata": {
        "id": "hsf8scBZfTkQ",
        "colab": {
          "base_uri": "https://localhost:8080/"
        },
        "outputId": "b8d5e6eb-5174-44d7-d7ee-7c353a3a90a5"
      },
      "execution_count": null,
      "outputs": [
        {
          "output_type": "stream",
          "name": "stdout",
          "text": [
            "Dimensions of Input (should be 32): 32\n"
          ]
        }
      ]
    },
    {
      "cell_type": "code",
      "source": [
        "# normalize user input using scalar (identical to training)\n",
        "user_input_np = np.array(user_input).reshape(1, -1)\n",
        "user_input_scaled = scaler.transform(user_input_np)"
      ],
      "metadata": {
        "id": "zmHxi4t9fVLh",
        "colab": {
          "base_uri": "https://localhost:8080/"
        },
        "outputId": "234ce618-b3a1-48a0-cf43-11b5b53ccffe"
      },
      "execution_count": null,
      "outputs": [
        {
          "output_type": "stream",
          "name": "stderr",
          "text": [
            "/usr/local/lib/python3.11/dist-packages/sklearn/utils/validation.py:2739: UserWarning: X does not have valid feature names, but StandardScaler was fitted with feature names\n",
            "  warnings.warn(\n"
          ]
        }
      ]
    },
    {
      "cell_type": "code",
      "source": [
        "# Change to PyTorch tensor\n",
        "user_tensor = torch.tensor(user_input_scaled, dtype=torch.float32)\n",
        "\n",
        "# TO GPU\n",
        "user_tensor = user_tensor.to(device)  # <- Move it to CUDA if available"
      ],
      "metadata": {
        "id": "m1MqDOucfW0a"
      },
      "execution_count": null,
      "outputs": []
    },
    {
      "cell_type": "markdown",
      "source": [
        "## Predictor Model.\n",
        "Legend:\n",
        "\n",
        "\n",
        "*   0: Normal (N)\n",
        "*   1: Ventricular Ectopic Beat (VEB)\n",
        "*   2: Supraventricular Ectopic Beat (SVEB)"
      ],
      "metadata": {
        "id": "zFLirxnPug8G"
      }
    },
    {
      "cell_type": "code",
      "source": [
        "#JULIE'S PREDICTOR\n",
        "model.eval()\n",
        "with torch.no_grad():\n",
        "    output = model(user_tensor)\n",
        "    prediction = torch.argmax(output, dim=1).item()\n",
        "\n",
        "# predicting (GPU)\n",
        "user_tensor = user_tensor.to(device)  # ensure it's on same device as model\n",
        "model.eval()\n",
        "with torch.no_grad():\n",
        "    output = model(user_tensor)\n",
        "    prediction = torch.argmax(output, dim=1).item()\n",
        "\n",
        "print(f\"Predicted arrhythmia type: {prediction}\")"
      ],
      "metadata": {
        "id": "X3WvbbeAfYrp",
        "colab": {
          "base_uri": "https://localhost:8080/"
        },
        "outputId": "19798b8c-dc36-4fdc-ed0e-10f24f7f41ea"
      },
      "execution_count": null,
      "outputs": [
        {
          "output_type": "stream",
          "name": "stdout",
          "text": [
            "Predicted arrhythmia type: 0\n"
          ]
        }
      ]
    }
  ]
}